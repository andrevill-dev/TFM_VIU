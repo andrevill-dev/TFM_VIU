{
 "cells": [
  {
   "cell_type": "code",
   "execution_count": 2,
   "id": "f9ae2c40-61ef-49ff-acd7-c65c10f3a155",
   "metadata": {
    "tags": []
   },
   "outputs": [
    {
     "name": "stdout",
     "output_type": "stream",
     "text": [
      "Language\n",
      "French      203042\n",
      "Spanish    2682096\n",
      "Name: User, dtype: int64\n"
     ]
    }
   ],
   "source": [
    "import pandas as pd\n",
    "\n",
    "# Define paths to the files\n",
    "file_paths = {\n",
    "    'Spanish': 'WPData/es_wiki.txt',\n",
    "    'French': 'WPData/fr_wiki.txt'\n",
    "}\n",
    "\n",
    "# Function to load data into a DataFrame\n",
    "def load_data(language, file_path):\n",
    "    # Read the file into a DataFrame\n",
    "    df = pd.read_csv(file_path, sep=\" \", header=None, usecols=[1], names=['User'])\n",
    "    df['Language'] = language  # Add a column for language\n",
    "    return df\n",
    "\n",
    "# Combine data from all files into a single DataFrame\n",
    "data_frames = [load_data(language, path) for language, path in file_paths.items()]\n",
    "combined_df = pd.concat(data_frames)\n",
    "\n",
    "# Group by language and count unique users\n",
    "unique_users_count = combined_df.groupby('Language')['User'].nunique()\n",
    "\n",
    "# Display the result\n",
    "print(unique_users_count)"
   ]
  },
  {
   "cell_type": "code",
   "execution_count": 4,
   "id": "b7eec0cb-21d7-4fea-bef9-bf71b8ddd114",
   "metadata": {
    "tags": []
   },
   "outputs": [
    {
     "data": {
      "text/html": [
       "<div>\n",
       "<style scoped>\n",
       "    .dataframe tbody tr th:only-of-type {\n",
       "        vertical-align: middle;\n",
       "    }\n",
       "\n",
       "    .dataframe tbody tr th {\n",
       "        vertical-align: top;\n",
       "    }\n",
       "\n",
       "    .dataframe thead th {\n",
       "        text-align: right;\n",
       "    }\n",
       "</style>\n",
       "<table border=\"1\" class=\"dataframe\">\n",
       "  <thead>\n",
       "    <tr style=\"text-align: right;\">\n",
       "      <th></th>\n",
       "      <th>User</th>\n",
       "      <th>Language</th>\n",
       "    </tr>\n",
       "  </thead>\n",
       "  <tbody>\n",
       "    <tr>\n",
       "      <th>12728320</th>\n",
       "      <td>88.2.232.122</td>\n",
       "      <td>Spanish</td>\n",
       "    </tr>\n",
       "    <tr>\n",
       "      <th>362831</th>\n",
       "      <td>Espilas</td>\n",
       "      <td>Spanish</td>\n",
       "    </tr>\n",
       "    <tr>\n",
       "      <th>13490960</th>\n",
       "      <td>Opliwtb</td>\n",
       "      <td>Spanish</td>\n",
       "    </tr>\n",
       "    <tr>\n",
       "      <th>5276111</th>\n",
       "      <td>Urdangaray</td>\n",
       "      <td>Spanish</td>\n",
       "    </tr>\n",
       "    <tr>\n",
       "      <th>14625330</th>\n",
       "      <td>Feliciano</td>\n",
       "      <td>Spanish</td>\n",
       "    </tr>\n",
       "  </tbody>\n",
       "</table>\n",
       "</div>"
      ],
      "text/plain": [
       "                  User Language\n",
       "12728320  88.2.232.122  Spanish\n",
       "362831         Espilas  Spanish\n",
       "13490960       Opliwtb  Spanish\n",
       "5276111     Urdangaray  Spanish\n",
       "14625330     Feliciano  Spanish"
      ]
     },
     "execution_count": 4,
     "metadata": {},
     "output_type": "execute_result"
    }
   ],
   "source": [
    "combined_df.sample(5)"
   ]
  },
  {
   "cell_type": "code",
   "execution_count": 1,
   "id": "d6d7718a-5f23-40af-b6d0-a87ab213de72",
   "metadata": {
    "tags": []
   },
   "outputs": [],
   "source": [
    "import os\n",
    "\n",
    "def replace_in_file_comma_spaces(file_path):\n",
    "    temp_file_path = file_path + '.tmp'  # Create a temporary file name\n",
    "\n",
    "    with open(file_path, 'r', encoding='utf-8') as file, open(temp_file_path, 'w', encoding='utf-8') as temp_file:\n",
    "        for line in file:\n",
    "            temp_file.write(line.replace(\"', '\", \"','\"))\n",
    "\n",
    "    os.replace(temp_file_path, file_path)  # Move the temporary file to the original file\n",
    "\n",
    "#file_path = 'WPData/es_wiki.txt'\n",
    "#replace_in_file(file_path)"
   ]
  },
  {
   "cell_type": "code",
   "execution_count": 2,
   "id": "d5e9d86d-5d81-4d62-b038-7988b7488b2a",
   "metadata": {
    "tags": []
   },
   "outputs": [],
   "source": [
    "import os\n",
    "#Update spanish file\n",
    "def replace_in_file_spaces(file_path):\n",
    "    temp_file_path = file_path + '.tmp'  # Create a temporary file name\n",
    "\n",
    "    with open(file_path, 'r', encoding='utf-8') as file, open(temp_file_path, 'w', encoding='utf-8') as temp_file:\n",
    "        for line in file:\n",
    "            temp_file.write(line.replace('    ', ' '))\n",
    "\n",
    "    os.replace(temp_file_path, file_path)  # Move the temporary file to the original file\n",
    "\n",
    "# Usage\n",
    "#file_path = 'WPData/es_wiki.txt'\n",
    "#replace_in_file(file_path)"
   ]
  },
  {
   "cell_type": "code",
   "execution_count": 1,
   "id": "89242ca9-b546-4746-afa6-57a2a92e0cae",
   "metadata": {
    "tags": []
   },
   "outputs": [
    {
     "name": "stdout",
     "output_type": "stream",
     "text": [
      "French unique users: 203055\n",
      "Spanish unique users: 2682096\n"
     ]
    }
   ],
   "source": [
    "import pandas as pd\n",
    "from collections import Counter\n",
    "\n",
    "# Custom function to parse data from file\n",
    "def parse_data(file_path):\n",
    "    data = []\n",
    "    with open(file_path, 'r', encoding='utf-8') as file:\n",
    "        for line in file:\n",
    "            parts = line.strip().split(' ')\n",
    "            title = parts[0]\n",
    "            user = parts[1]\n",
    "            timestamp = parts[2]\n",
    "            categories = parts[3:]\n",
    "            # Cleaning category data\n",
    "            categories = [category.strip(\"[]',\") for category in categories]\n",
    "            data.append([title, user, timestamp, categories])\n",
    "    return pd.DataFrame(data, columns=['Title', 'User', 'Timestamp', 'Categories'])\n",
    "\n",
    "# Cleaning function for category lists\n",
    "def clean_categories(category_list):\n",
    "    return [category.strip(\"[]',\") for category in category_list.split(',')]\n",
    "\n",
    "# Count unique users and category occurrences\n",
    "def count_users_by_category(data):\n",
    "    category_counts = Counter()\n",
    "    for _, row in data.iterrows():\n",
    "        for category in row['Categories']:\n",
    "            category_counts[category] += 1\n",
    "    return category_counts\n",
    "\n",
    "# Paths to the data files\n",
    "french_file = 'WPData/fr_wiki.txt'\n",
    "spanish_file = 'WPData/es_wiki.txt'\n",
    "\n",
    "# Parse data\n",
    "fr_data = parse_data(french_file)\n",
    "es_data = parse_data(spanish_file)\n",
    "\n",
    "# Correcting the parsing of categories\n",
    "#fr_data['Categories'] = fr_data['Categories'].apply(lambda x: clean_categories(x[0]))\n",
    "#es_data['Categories'] = es_data['Categories'].apply(lambda x: clean_categories(x[0]))\n",
    "\n",
    "# Unique users\n",
    "unique_users_fr = fr_data['User'].nunique()\n",
    "unique_users_es = es_data['User'].nunique()\n",
    "\n",
    "# Users per category\n",
    "category_counts_fr = count_users_by_category(fr_data)\n",
    "category_counts_es = count_users_by_category(es_data)\n",
    "\n",
    "# Display results\n",
    "print(\"French unique users:\", unique_users_fr)\n",
    "print(\"Spanish unique users:\", unique_users_es)\n",
    "#print(\"French category counts:\", category_counts_fr)\n",
    "#print(\"Spanish category counts:\", category_counts_es)\n"
   ]
  },
  {
   "cell_type": "markdown",
   "id": "52b0d54a-6810-4c64-92cd-681e6197026d",
   "metadata": {},
   "source": [
    "## First Step to load data in df "
   ]
  },
  {
   "cell_type": "code",
   "execution_count": 6,
   "id": "edbab920-9690-4f0d-b90a-eb3dab1f0864",
   "metadata": {
    "tags": []
   },
   "outputs": [],
   "source": [
    "import pandas as pd\n",
    "import os\n",
    "# Function to read data and transform into a usable DataFrame\n",
    "def load_and_prepare_data(file_path):\n",
    "    # Read the data from the text file with space as a separator\n",
    "    data = pd.read_csv(file_path, sep=\" \", header=None, names=[\"title\", \"user\", \"timestamp\", \"categories\"])\n",
    "    \n",
    "    # Convert UNIX timestamps to human-readable datetime\n",
    "    data['datetime'] = pd.to_datetime(data['timestamp'], unit='s')\n",
    "    \n",
    "    #Convert to JSON format to faster implementation\n",
    "    data['categories'] = data['categories'].str.replace(\"'\", '\"')\n",
    "    \n",
    "    # Convert string representation of category lists to actual lists\n",
    "    #data['categories'] = data['categories'].apply(json.loads)\n",
    "    \n",
    "    return data"
   ]
  },
  {
   "cell_type": "code",
   "execution_count": 8,
   "id": "aa0145d4-df95-4a6b-833a-cbc4320ee9cd",
   "metadata": {
    "tags": []
   },
   "outputs": [],
   "source": [
    "data_fr['categories'] = data_fr['categories'].str.replace(\"'\", '\"')"
   ]
  },
  {
   "cell_type": "code",
   "execution_count": 9,
   "id": "9d821b70-d202-4976-9db9-e6da9495225b",
   "metadata": {
    "tags": []
   },
   "outputs": [],
   "source": [
    "import json\n",
    "\n",
    "data_fr['categories'] = data_fr['categories'].apply(json.loads)"
   ]
  },
  {
   "cell_type": "code",
   "execution_count": 10,
   "id": "e3265ff6-1568-4384-b1c2-c9f8a2cbcb28",
   "metadata": {
    "tags": []
   },
   "outputs": [
    {
     "data": {
      "text/html": [
       "<div>\n",
       "<style scoped>\n",
       "    .dataframe tbody tr th:only-of-type {\n",
       "        vertical-align: middle;\n",
       "    }\n",
       "\n",
       "    .dataframe tbody tr th {\n",
       "        vertical-align: top;\n",
       "    }\n",
       "\n",
       "    .dataframe thead th {\n",
       "        text-align: right;\n",
       "    }\n",
       "</style>\n",
       "<table border=\"1\" class=\"dataframe\">\n",
       "  <thead>\n",
       "    <tr style=\"text-align: right;\">\n",
       "      <th></th>\n",
       "      <th>title</th>\n",
       "      <th>user</th>\n",
       "      <th>timestamp</th>\n",
       "      <th>categories</th>\n",
       "      <th>datetime</th>\n",
       "    </tr>\n",
       "  </thead>\n",
       "  <tbody>\n",
       "    <tr>\n",
       "      <th>15908960</th>\n",
       "      <td>CEC_European_Managers</td>\n",
       "      <td>CECmanagers</td>\n",
       "      <td>1220865473</td>\n",
       "      <td>[politica]</td>\n",
       "      <td>2008-09-08 09:17:53</td>\n",
       "    </tr>\n",
       "    <tr>\n",
       "      <th>5141000</th>\n",
       "      <td>Petropedetidae</td>\n",
       "      <td>Poleta33</td>\n",
       "      <td>1214474527</td>\n",
       "      <td>[naturaleza]</td>\n",
       "      <td>2008-06-26 10:02:07</td>\n",
       "    </tr>\n",
       "    <tr>\n",
       "      <th>5721407</th>\n",
       "      <td>Hull_City_Association_Football_Club</td>\n",
       "      <td>Axou</td>\n",
       "      <td>1166032856</td>\n",
       "      <td>[deporte, eventos, geografia, historia, politi...</td>\n",
       "      <td>2006-12-13 18:00:56</td>\n",
       "    </tr>\n",
       "    <tr>\n",
       "      <th>11199829</th>\n",
       "      <td>Société_à_2000_watts</td>\n",
       "      <td>Viaferrata</td>\n",
       "      <td>1207924095</td>\n",
       "      <td>[geografia, historia, naturaleza, politica]</td>\n",
       "      <td>2008-04-11 14:28:15</td>\n",
       "    </tr>\n",
       "    <tr>\n",
       "      <th>5856076</th>\n",
       "      <td>Communauté_de_communes_de_Haute_Maurienne-Vanoise</td>\n",
       "      <td>Hmv~frwiki</td>\n",
       "      <td>1256048553</td>\n",
       "      <td>[derecho, geografia, historia, politica]</td>\n",
       "      <td>2009-10-20 14:22:33</td>\n",
       "    </tr>\n",
       "    <tr>\n",
       "      <th>7840783</th>\n",
       "      <td>Transformations_de_Paris_sous_le_Second_Empire</td>\n",
       "      <td>Lilyu</td>\n",
       "      <td>1205864877</td>\n",
       "      <td>[eventos, geografia, historia, politica]</td>\n",
       "      <td>2008-03-18 18:27:57</td>\n",
       "    </tr>\n",
       "    <tr>\n",
       "      <th>6395741</th>\n",
       "      <td>Loix</td>\n",
       "      <td>JarnaQuais</td>\n",
       "      <td>1139476969</td>\n",
       "      <td>[derecho, geografia, politica]</td>\n",
       "      <td>2006-02-09 09:22:49</td>\n",
       "    </tr>\n",
       "    <tr>\n",
       "      <th>6636412</th>\n",
       "      <td>Luis_Guzmán_(acteur)</td>\n",
       "      <td>Bulat</td>\n",
       "      <td>1126949155</td>\n",
       "      <td>[arte, historia]</td>\n",
       "      <td>2005-09-17 09:25:55</td>\n",
       "    </tr>\n",
       "    <tr>\n",
       "      <th>14619473</th>\n",
       "      <td>Moinville-la-jeulin</td>\n",
       "      <td>Loveless</td>\n",
       "      <td>1195285541</td>\n",
       "      <td>[derecho, geografia, politica]</td>\n",
       "      <td>2007-11-17 07:45:41</td>\n",
       "    </tr>\n",
       "    <tr>\n",
       "      <th>12816648</th>\n",
       "      <td>Nana_Kitade</td>\n",
       "      <td>Nicorr</td>\n",
       "      <td>1179315962</td>\n",
       "      <td>[arte, historia]</td>\n",
       "      <td>2007-05-16 11:46:02</td>\n",
       "    </tr>\n",
       "  </tbody>\n",
       "</table>\n",
       "</div>"
      ],
      "text/plain": [
       "                                                      title         user  \\\n",
       "15908960                              CEC_European_Managers  CECmanagers   \n",
       "5141000                                      Petropedetidae     Poleta33   \n",
       "5721407                 Hull_City_Association_Football_Club         Axou   \n",
       "11199829                               Société_à_2000_watts   Viaferrata   \n",
       "5856076   Communauté_de_communes_de_Haute_Maurienne-Vanoise   Hmv~frwiki   \n",
       "7840783      Transformations_de_Paris_sous_le_Second_Empire        Lilyu   \n",
       "6395741                                                Loix   JarnaQuais   \n",
       "6636412                                Luis_Guzmán_(acteur)        Bulat   \n",
       "14619473                                Moinville-la-jeulin     Loveless   \n",
       "12816648                                        Nana_Kitade       Nicorr   \n",
       "\n",
       "           timestamp                                         categories  \\\n",
       "15908960  1220865473                                         [politica]   \n",
       "5141000   1214474527                                       [naturaleza]   \n",
       "5721407   1166032856  [deporte, eventos, geografia, historia, politi...   \n",
       "11199829  1207924095        [geografia, historia, naturaleza, politica]   \n",
       "5856076   1256048553           [derecho, geografia, historia, politica]   \n",
       "7840783   1205864877           [eventos, geografia, historia, politica]   \n",
       "6395741   1139476969                     [derecho, geografia, politica]   \n",
       "6636412   1126949155                                   [arte, historia]   \n",
       "14619473  1195285541                     [derecho, geografia, politica]   \n",
       "12816648  1179315962                                   [arte, historia]   \n",
       "\n",
       "                    datetime  \n",
       "15908960 2008-09-08 09:17:53  \n",
       "5141000  2008-06-26 10:02:07  \n",
       "5721407  2006-12-13 18:00:56  \n",
       "11199829 2008-04-11 14:28:15  \n",
       "5856076  2009-10-20 14:22:33  \n",
       "7840783  2008-03-18 18:27:57  \n",
       "6395741  2006-02-09 09:22:49  \n",
       "6636412  2005-09-17 09:25:55  \n",
       "14619473 2007-11-17 07:45:41  \n",
       "12816648 2007-05-16 11:46:02  "
      ]
     },
     "execution_count": 10,
     "metadata": {},
     "output_type": "execute_result"
    }
   ],
   "source": [
    "data_fr.sample(10)"
   ]
  },
  {
   "cell_type": "markdown",
   "id": "ca375596-5b9b-4cbf-b3b7-cdfeec3b7f9a",
   "metadata": {},
   "source": [
    "# Process french data"
   ]
  },
  {
   "cell_type": "code",
   "execution_count": 24,
   "id": "174719a2-f4a8-4f36-8007-0a479b8764a3",
   "metadata": {
    "tags": []
   },
   "outputs": [],
   "source": [
    "#data_fr.to_pickle('converted/df_fr')\n",
    "data_fr=load_and_prepare_data('WPData/fr_wiki.txt')\n",
    "len(data_fr)"
   ]
  },
  {
   "cell_type": "code",
   "execution_count": null,
   "id": "11eb41bd-c2be-4a85-b1ea-3e3f5946ce57",
   "metadata": {},
   "outputs": [],
   "source": [
    "import json\n",
    "data_es['categories'] = data_es['categories'].apply(json.loads)"
   ]
  },
  {
   "cell_type": "code",
   "execution_count": 11,
   "id": "f7ef6f62-037b-4e8d-a912-66c14259e842",
   "metadata": {
    "tags": []
   },
   "outputs": [],
   "source": [
    "df_exploded = data_fr.explode('categories')"
   ]
  },
  {
   "cell_type": "code",
   "execution_count": 16,
   "id": "148604ee-9ab1-41ef-9df9-535fc708cd77",
   "metadata": {
    "tags": []
   },
   "outputs": [
    {
     "data": {
      "text/html": [
       "<div>\n",
       "<style scoped>\n",
       "    .dataframe tbody tr th:only-of-type {\n",
       "        vertical-align: middle;\n",
       "    }\n",
       "\n",
       "    .dataframe tbody tr th {\n",
       "        vertical-align: top;\n",
       "    }\n",
       "\n",
       "    .dataframe thead th {\n",
       "        text-align: right;\n",
       "    }\n",
       "</style>\n",
       "<table border=\"1\" class=\"dataframe\">\n",
       "  <thead>\n",
       "    <tr style=\"text-align: right;\">\n",
       "      <th></th>\n",
       "      <th>title</th>\n",
       "      <th>user</th>\n",
       "      <th>timestamp</th>\n",
       "      <th>categories</th>\n",
       "      <th>datetime</th>\n",
       "    </tr>\n",
       "  </thead>\n",
       "  <tbody>\n",
       "    <tr>\n",
       "      <th>0</th>\n",
       "      <td>Antoine_Meillet</td>\n",
       "      <td>Curry</td>\n",
       "      <td>1031518186</td>\n",
       "      <td>arte</td>\n",
       "      <td>2002-09-08 20:49:46</td>\n",
       "    </tr>\n",
       "    <tr>\n",
       "      <th>0</th>\n",
       "      <td>Antoine_Meillet</td>\n",
       "      <td>Curry</td>\n",
       "      <td>1031518186</td>\n",
       "      <td>geografia</td>\n",
       "      <td>2002-09-08 20:49:46</td>\n",
       "    </tr>\n",
       "    <tr>\n",
       "      <th>0</th>\n",
       "      <td>Antoine_Meillet</td>\n",
       "      <td>Curry</td>\n",
       "      <td>1031518186</td>\n",
       "      <td>historia</td>\n",
       "      <td>2002-09-08 20:49:46</td>\n",
       "    </tr>\n",
       "    <tr>\n",
       "      <th>0</th>\n",
       "      <td>Antoine_Meillet</td>\n",
       "      <td>Curry</td>\n",
       "      <td>1031518186</td>\n",
       "      <td>politica</td>\n",
       "      <td>2002-09-08 20:49:46</td>\n",
       "    </tr>\n",
       "    <tr>\n",
       "      <th>1</th>\n",
       "      <td>Antoine_Meillet</td>\n",
       "      <td>script_de_conversion</td>\n",
       "      <td>1036059091</td>\n",
       "      <td>arte</td>\n",
       "      <td>2002-10-31 10:11:31</td>\n",
       "    </tr>\n",
       "    <tr>\n",
       "      <th>1</th>\n",
       "      <td>Antoine_Meillet</td>\n",
       "      <td>script_de_conversion</td>\n",
       "      <td>1036059091</td>\n",
       "      <td>geografia</td>\n",
       "      <td>2002-10-31 10:11:31</td>\n",
       "    </tr>\n",
       "    <tr>\n",
       "      <th>1</th>\n",
       "      <td>Antoine_Meillet</td>\n",
       "      <td>script_de_conversion</td>\n",
       "      <td>1036059091</td>\n",
       "      <td>historia</td>\n",
       "      <td>2002-10-31 10:11:31</td>\n",
       "    </tr>\n",
       "    <tr>\n",
       "      <th>1</th>\n",
       "      <td>Antoine_Meillet</td>\n",
       "      <td>script_de_conversion</td>\n",
       "      <td>1036059091</td>\n",
       "      <td>politica</td>\n",
       "      <td>2002-10-31 10:11:31</td>\n",
       "    </tr>\n",
       "    <tr>\n",
       "      <th>2</th>\n",
       "      <td>Antoine_Meillet</td>\n",
       "      <td>Francis</td>\n",
       "      <td>1036336188</td>\n",
       "      <td>arte</td>\n",
       "      <td>2002-11-03 15:09:48</td>\n",
       "    </tr>\n",
       "    <tr>\n",
       "      <th>2</th>\n",
       "      <td>Antoine_Meillet</td>\n",
       "      <td>Francis</td>\n",
       "      <td>1036336188</td>\n",
       "      <td>geografia</td>\n",
       "      <td>2002-11-03 15:09:48</td>\n",
       "    </tr>\n",
       "    <tr>\n",
       "      <th>2</th>\n",
       "      <td>Antoine_Meillet</td>\n",
       "      <td>Francis</td>\n",
       "      <td>1036336188</td>\n",
       "      <td>historia</td>\n",
       "      <td>2002-11-03 15:09:48</td>\n",
       "    </tr>\n",
       "    <tr>\n",
       "      <th>2</th>\n",
       "      <td>Antoine_Meillet</td>\n",
       "      <td>Francis</td>\n",
       "      <td>1036336188</td>\n",
       "      <td>politica</td>\n",
       "      <td>2002-11-03 15:09:48</td>\n",
       "    </tr>\n",
       "    <tr>\n",
       "      <th>3</th>\n",
       "      <td>Antoine_Meillet</td>\n",
       "      <td>Curry</td>\n",
       "      <td>1055238782</td>\n",
       "      <td>arte</td>\n",
       "      <td>2003-06-10 09:53:02</td>\n",
       "    </tr>\n",
       "    <tr>\n",
       "      <th>3</th>\n",
       "      <td>Antoine_Meillet</td>\n",
       "      <td>Curry</td>\n",
       "      <td>1055238782</td>\n",
       "      <td>geografia</td>\n",
       "      <td>2003-06-10 09:53:02</td>\n",
       "    </tr>\n",
       "    <tr>\n",
       "      <th>3</th>\n",
       "      <td>Antoine_Meillet</td>\n",
       "      <td>Curry</td>\n",
       "      <td>1055238782</td>\n",
       "      <td>historia</td>\n",
       "      <td>2003-06-10 09:53:02</td>\n",
       "    </tr>\n",
       "    <tr>\n",
       "      <th>3</th>\n",
       "      <td>Antoine_Meillet</td>\n",
       "      <td>Curry</td>\n",
       "      <td>1055238782</td>\n",
       "      <td>politica</td>\n",
       "      <td>2003-06-10 09:53:02</td>\n",
       "    </tr>\n",
       "    <tr>\n",
       "      <th>4</th>\n",
       "      <td>Antoine_Meillet</td>\n",
       "      <td>JacquesD</td>\n",
       "      <td>1058472952</td>\n",
       "      <td>arte</td>\n",
       "      <td>2003-07-17 20:15:52</td>\n",
       "    </tr>\n",
       "    <tr>\n",
       "      <th>4</th>\n",
       "      <td>Antoine_Meillet</td>\n",
       "      <td>JacquesD</td>\n",
       "      <td>1058472952</td>\n",
       "      <td>geografia</td>\n",
       "      <td>2003-07-17 20:15:52</td>\n",
       "    </tr>\n",
       "    <tr>\n",
       "      <th>4</th>\n",
       "      <td>Antoine_Meillet</td>\n",
       "      <td>JacquesD</td>\n",
       "      <td>1058472952</td>\n",
       "      <td>historia</td>\n",
       "      <td>2003-07-17 20:15:52</td>\n",
       "    </tr>\n",
       "    <tr>\n",
       "      <th>4</th>\n",
       "      <td>Antoine_Meillet</td>\n",
       "      <td>JacquesD</td>\n",
       "      <td>1058472952</td>\n",
       "      <td>politica</td>\n",
       "      <td>2003-07-17 20:15:52</td>\n",
       "    </tr>\n",
       "  </tbody>\n",
       "</table>\n",
       "</div>"
      ],
      "text/plain": [
       "             title                  user   timestamp categories  \\\n",
       "0  Antoine_Meillet                 Curry  1031518186       arte   \n",
       "0  Antoine_Meillet                 Curry  1031518186  geografia   \n",
       "0  Antoine_Meillet                 Curry  1031518186   historia   \n",
       "0  Antoine_Meillet                 Curry  1031518186   politica   \n",
       "1  Antoine_Meillet  script_de_conversion  1036059091       arte   \n",
       "1  Antoine_Meillet  script_de_conversion  1036059091  geografia   \n",
       "1  Antoine_Meillet  script_de_conversion  1036059091   historia   \n",
       "1  Antoine_Meillet  script_de_conversion  1036059091   politica   \n",
       "2  Antoine_Meillet               Francis  1036336188       arte   \n",
       "2  Antoine_Meillet               Francis  1036336188  geografia   \n",
       "2  Antoine_Meillet               Francis  1036336188   historia   \n",
       "2  Antoine_Meillet               Francis  1036336188   politica   \n",
       "3  Antoine_Meillet                 Curry  1055238782       arte   \n",
       "3  Antoine_Meillet                 Curry  1055238782  geografia   \n",
       "3  Antoine_Meillet                 Curry  1055238782   historia   \n",
       "3  Antoine_Meillet                 Curry  1055238782   politica   \n",
       "4  Antoine_Meillet              JacquesD  1058472952       arte   \n",
       "4  Antoine_Meillet              JacquesD  1058472952  geografia   \n",
       "4  Antoine_Meillet              JacquesD  1058472952   historia   \n",
       "4  Antoine_Meillet              JacquesD  1058472952   politica   \n",
       "\n",
       "             datetime  \n",
       "0 2002-09-08 20:49:46  \n",
       "0 2002-09-08 20:49:46  \n",
       "0 2002-09-08 20:49:46  \n",
       "0 2002-09-08 20:49:46  \n",
       "1 2002-10-31 10:11:31  \n",
       "1 2002-10-31 10:11:31  \n",
       "1 2002-10-31 10:11:31  \n",
       "1 2002-10-31 10:11:31  \n",
       "2 2002-11-03 15:09:48  \n",
       "2 2002-11-03 15:09:48  \n",
       "2 2002-11-03 15:09:48  \n",
       "2 2002-11-03 15:09:48  \n",
       "3 2003-06-10 09:53:02  \n",
       "3 2003-06-10 09:53:02  \n",
       "3 2003-06-10 09:53:02  \n",
       "3 2003-06-10 09:53:02  \n",
       "4 2003-07-17 20:15:52  \n",
       "4 2003-07-17 20:15:52  \n",
       "4 2003-07-17 20:15:52  \n",
       "4 2003-07-17 20:15:52  "
      ]
     },
     "execution_count": 16,
     "metadata": {},
     "output_type": "execute_result"
    }
   ],
   "source": [
    "df_exploded.head(20)"
   ]
  },
  {
   "cell_type": "code",
   "execution_count": 23,
   "id": "77f6dd8a-3ed7-4b49-986b-cd700f0cfd75",
   "metadata": {
    "tags": []
   },
   "outputs": [],
   "source": [
    "df_exploded.to_pickle('df_fr_processed')"
   ]
  },
  {
   "cell_type": "code",
   "execution_count": 18,
   "id": "d361578b-a7ac-4a1d-9d72-39799ce758ed",
   "metadata": {
    "tags": []
   },
   "outputs": [],
   "source": [
    "users_per_category_fr = df_exploded.groupby('categories')['user'].nunique()"
   ]
  },
  {
   "cell_type": "code",
   "execution_count": 21,
   "id": "19e2b7e5-3397-468e-8781-e458aae72951",
   "metadata": {
    "tags": []
   },
   "outputs": [
    {
     "data": {
      "text/plain": [
       "categories\n",
       "arte          115336\n",
       "deporte        43664\n",
       "derecho        70693\n",
       "eventos        99840\n",
       "filosofia      62825\n",
       "geografia     117301\n",
       "historia      157533\n",
       "juegos         21912\n",
       "matematica     26984\n",
       "naturaleza     61967\n",
       "politica      120976\n",
       "religion       44883\n",
       "salud          76725\n",
       "Name: user, dtype: int64"
      ]
     },
     "execution_count": 21,
     "metadata": {},
     "output_type": "execute_result"
    }
   ],
   "source": [
    "users_per_category_fr"
   ]
  },
  {
   "cell_type": "markdown",
   "id": "75dbc18f-cfa6-4b70-b292-b644db06dc50",
   "metadata": {},
   "source": [
    "# Process spanish data"
   ]
  },
  {
   "cell_type": "code",
   "execution_count": 16,
   "id": "21d66ea8-cd2c-43f1-b027-be471d1ebcd5",
   "metadata": {
    "tags": []
   },
   "outputs": [],
   "source": [
    "data_es=load_and_prepare_data('WPData/es_wiki.txt')"
   ]
  },
  {
   "cell_type": "code",
   "execution_count": 17,
   "id": "9949ccac-51ed-48ec-99d3-cce7a99932aa",
   "metadata": {
    "tags": []
   },
   "outputs": [
    {
     "name": "stdout",
     "output_type": "stream",
     "text": [
      "CPU times: user 17.5 s, sys: 37.4 s, total: 54.9 s\n",
      "Wall time: 3min 59s\n"
     ]
    },
    {
     "data": {
      "text/html": [
       "<div>\n",
       "<style scoped>\n",
       "    .dataframe tbody tr th:only-of-type {\n",
       "        vertical-align: middle;\n",
       "    }\n",
       "\n",
       "    .dataframe tbody tr th {\n",
       "        vertical-align: top;\n",
       "    }\n",
       "\n",
       "    .dataframe thead th {\n",
       "        text-align: right;\n",
       "    }\n",
       "</style>\n",
       "<table border=\"1\" class=\"dataframe\">\n",
       "  <thead>\n",
       "    <tr style=\"text-align: right;\">\n",
       "      <th></th>\n",
       "      <th>title</th>\n",
       "      <th>user</th>\n",
       "      <th>timestamp</th>\n",
       "      <th>categories</th>\n",
       "      <th>datetime</th>\n",
       "    </tr>\n",
       "  </thead>\n",
       "  <tbody>\n",
       "    <tr>\n",
       "      <th>0</th>\n",
       "      <td>Gregg_Sulkin</td>\n",
       "      <td>87.217.240.27</td>\n",
       "      <td>1287843598</td>\n",
       "      <td>[arte, derecho, eventos, filosofia, historia, ...</td>\n",
       "      <td>2010-10-23 14:19:58</td>\n",
       "    </tr>\n",
       "    <tr>\n",
       "      <th>1</th>\n",
       "      <td>Gregg_Sulkin</td>\n",
       "      <td>87.217.240.27</td>\n",
       "      <td>1287843504</td>\n",
       "      <td>[arte, derecho, eventos, filosofia, historia, ...</td>\n",
       "      <td>2010-10-23 14:18:24</td>\n",
       "    </tr>\n",
       "    <tr>\n",
       "      <th>2</th>\n",
       "      <td>Sonangol</td>\n",
       "      <td>Sentoan</td>\n",
       "      <td>1287843154</td>\n",
       "      <td>[derecho, filosofia, geografia, historia, natu...</td>\n",
       "      <td>2010-10-23 14:12:34</td>\n",
       "    </tr>\n",
       "    <tr>\n",
       "      <th>3</th>\n",
       "      <td>Matt_&amp;_Kim</td>\n",
       "      <td>Shining.Star</td>\n",
       "      <td>1287842935</td>\n",
       "      <td>[arte, derecho, filosofia]</td>\n",
       "      <td>2010-10-23 14:08:55</td>\n",
       "    </tr>\n",
       "    <tr>\n",
       "      <th>4</th>\n",
       "      <td>Matt_&amp;_Kim</td>\n",
       "      <td>Shining.Star</td>\n",
       "      <td>1287842910</td>\n",
       "      <td>[arte, derecho, filosofia]</td>\n",
       "      <td>2010-10-23 14:08:30</td>\n",
       "    </tr>\n",
       "    <tr>\n",
       "      <th>5</th>\n",
       "      <td>Ricardo_Aparicio_y_Aparicio</td>\n",
       "      <td>Petronas</td>\n",
       "      <td>1287842871</td>\n",
       "      <td>[derecho, eventos, filosofia, historia, politica]</td>\n",
       "      <td>2010-10-23 14:07:51</td>\n",
       "    </tr>\n",
       "    <tr>\n",
       "      <th>6</th>\n",
       "      <td>Ricardo_Aparicio_y_Aparicio</td>\n",
       "      <td>Petronas</td>\n",
       "      <td>1287842823</td>\n",
       "      <td>[derecho, eventos, filosofia, historia, politica]</td>\n",
       "      <td>2010-10-23 14:07:03</td>\n",
       "    </tr>\n",
       "    <tr>\n",
       "      <th>7</th>\n",
       "      <td>Ricardo_Aparicio_y_Aparicio</td>\n",
       "      <td>Petronas</td>\n",
       "      <td>1287842803</td>\n",
       "      <td>[derecho, eventos, filosofia, historia, politica]</td>\n",
       "      <td>2010-10-23 14:06:43</td>\n",
       "    </tr>\n",
       "    <tr>\n",
       "      <th>8</th>\n",
       "      <td>Proyecto_Agorá</td>\n",
       "      <td>AWUY</td>\n",
       "      <td>1287843205</td>\n",
       "      <td>[matematica, politica, religion]</td>\n",
       "      <td>2010-10-23 14:13:25</td>\n",
       "    </tr>\n",
       "    <tr>\n",
       "      <th>9</th>\n",
       "      <td>Proyecto_Agorá</td>\n",
       "      <td>AWUY</td>\n",
       "      <td>1287842345</td>\n",
       "      <td>[matematica, politica, religion]</td>\n",
       "      <td>2010-10-23 13:59:05</td>\n",
       "    </tr>\n",
       "    <tr>\n",
       "      <th>10</th>\n",
       "      <td>Campeonato_Ecuatoriano_de_Fútbol_Segunda_Categ...</td>\n",
       "      <td>Checho19</td>\n",
       "      <td>1287843954</td>\n",
       "      <td>[deporte, eventos]</td>\n",
       "      <td>2010-10-23 14:25:54</td>\n",
       "    </tr>\n",
       "    <tr>\n",
       "      <th>11</th>\n",
       "      <td>Campeonato_Ecuatoriano_de_Fútbol_Segunda_Categ...</td>\n",
       "      <td>Checho19</td>\n",
       "      <td>1287843790</td>\n",
       "      <td>[deporte, eventos]</td>\n",
       "      <td>2010-10-23 14:23:10</td>\n",
       "    </tr>\n",
       "    <tr>\n",
       "      <th>12</th>\n",
       "      <td>Campeonato_Ecuatoriano_de_Fútbol_Segunda_Categ...</td>\n",
       "      <td>Checho19</td>\n",
       "      <td>1287843525</td>\n",
       "      <td>[deporte, eventos]</td>\n",
       "      <td>2010-10-23 14:18:45</td>\n",
       "    </tr>\n",
       "    <tr>\n",
       "      <th>13</th>\n",
       "      <td>Campeonato_Ecuatoriano_de_Fútbol_Segunda_Categ...</td>\n",
       "      <td>Checho19</td>\n",
       "      <td>1287843304</td>\n",
       "      <td>[deporte, eventos]</td>\n",
       "      <td>2010-10-23 14:15:04</td>\n",
       "    </tr>\n",
       "    <tr>\n",
       "      <th>14</th>\n",
       "      <td>Campeonato_Ecuatoriano_de_Fútbol_Segunda_Categ...</td>\n",
       "      <td>Checho19</td>\n",
       "      <td>1287842938</td>\n",
       "      <td>[deporte, eventos]</td>\n",
       "      <td>2010-10-23 14:08:58</td>\n",
       "    </tr>\n",
       "    <tr>\n",
       "      <th>15</th>\n",
       "      <td>Campeonato_Ecuatoriano_de_Fútbol_Segunda_Categ...</td>\n",
       "      <td>Checho19</td>\n",
       "      <td>1287842724</td>\n",
       "      <td>[deporte, eventos]</td>\n",
       "      <td>2010-10-23 14:05:24</td>\n",
       "    </tr>\n",
       "    <tr>\n",
       "      <th>16</th>\n",
       "      <td>Campeonato_Ecuatoriano_de_Fútbol_Segunda_Categ...</td>\n",
       "      <td>Checho19</td>\n",
       "      <td>1287842330</td>\n",
       "      <td>[deporte, eventos]</td>\n",
       "      <td>2010-10-23 13:58:50</td>\n",
       "    </tr>\n",
       "    <tr>\n",
       "      <th>17</th>\n",
       "      <td>Campeonato_Ecuatoriano_de_Fútbol_Segunda_Categ...</td>\n",
       "      <td>Checho19</td>\n",
       "      <td>1287842201</td>\n",
       "      <td>[deporte, eventos]</td>\n",
       "      <td>2010-10-23 13:56:41</td>\n",
       "    </tr>\n",
       "    <tr>\n",
       "      <th>18</th>\n",
       "      <td>Tadarida_fulminans</td>\n",
       "      <td>Francisco_valera</td>\n",
       "      <td>1287842188</td>\n",
       "      <td>[naturaleza]</td>\n",
       "      <td>2010-10-23 13:56:28</td>\n",
       "    </tr>\n",
       "    <tr>\n",
       "      <th>19</th>\n",
       "      <td>Tadarida_fulminans</td>\n",
       "      <td>Francisco_valera</td>\n",
       "      <td>1287842164</td>\n",
       "      <td>[naturaleza]</td>\n",
       "      <td>2010-10-23 13:56:04</td>\n",
       "    </tr>\n",
       "  </tbody>\n",
       "</table>\n",
       "</div>"
      ],
      "text/plain": [
       "                                                title              user  \\\n",
       "0                                        Gregg_Sulkin     87.217.240.27   \n",
       "1                                        Gregg_Sulkin     87.217.240.27   \n",
       "2                                            Sonangol           Sentoan   \n",
       "3                                          Matt_&_Kim      Shining.Star   \n",
       "4                                          Matt_&_Kim      Shining.Star   \n",
       "5                         Ricardo_Aparicio_y_Aparicio          Petronas   \n",
       "6                         Ricardo_Aparicio_y_Aparicio          Petronas   \n",
       "7                         Ricardo_Aparicio_y_Aparicio          Petronas   \n",
       "8                                      Proyecto_Agorá              AWUY   \n",
       "9                                      Proyecto_Agorá              AWUY   \n",
       "10  Campeonato_Ecuatoriano_de_Fútbol_Segunda_Categ...          Checho19   \n",
       "11  Campeonato_Ecuatoriano_de_Fútbol_Segunda_Categ...          Checho19   \n",
       "12  Campeonato_Ecuatoriano_de_Fútbol_Segunda_Categ...          Checho19   \n",
       "13  Campeonato_Ecuatoriano_de_Fútbol_Segunda_Categ...          Checho19   \n",
       "14  Campeonato_Ecuatoriano_de_Fútbol_Segunda_Categ...          Checho19   \n",
       "15  Campeonato_Ecuatoriano_de_Fútbol_Segunda_Categ...          Checho19   \n",
       "16  Campeonato_Ecuatoriano_de_Fútbol_Segunda_Categ...          Checho19   \n",
       "17  Campeonato_Ecuatoriano_de_Fútbol_Segunda_Categ...          Checho19   \n",
       "18                                 Tadarida_fulminans  Francisco_valera   \n",
       "19                                 Tadarida_fulminans  Francisco_valera   \n",
       "\n",
       "     timestamp                                         categories  \\\n",
       "0   1287843598  [arte, derecho, eventos, filosofia, historia, ...   \n",
       "1   1287843504  [arte, derecho, eventos, filosofia, historia, ...   \n",
       "2   1287843154  [derecho, filosofia, geografia, historia, natu...   \n",
       "3   1287842935                         [arte, derecho, filosofia]   \n",
       "4   1287842910                         [arte, derecho, filosofia]   \n",
       "5   1287842871  [derecho, eventos, filosofia, historia, politica]   \n",
       "6   1287842823  [derecho, eventos, filosofia, historia, politica]   \n",
       "7   1287842803  [derecho, eventos, filosofia, historia, politica]   \n",
       "8   1287843205                   [matematica, politica, religion]   \n",
       "9   1287842345                   [matematica, politica, religion]   \n",
       "10  1287843954                                 [deporte, eventos]   \n",
       "11  1287843790                                 [deporte, eventos]   \n",
       "12  1287843525                                 [deporte, eventos]   \n",
       "13  1287843304                                 [deporte, eventos]   \n",
       "14  1287842938                                 [deporte, eventos]   \n",
       "15  1287842724                                 [deporte, eventos]   \n",
       "16  1287842330                                 [deporte, eventos]   \n",
       "17  1287842201                                 [deporte, eventos]   \n",
       "18  1287842188                                       [naturaleza]   \n",
       "19  1287842164                                       [naturaleza]   \n",
       "\n",
       "              datetime  \n",
       "0  2010-10-23 14:19:58  \n",
       "1  2010-10-23 14:18:24  \n",
       "2  2010-10-23 14:12:34  \n",
       "3  2010-10-23 14:08:55  \n",
       "4  2010-10-23 14:08:30  \n",
       "5  2010-10-23 14:07:51  \n",
       "6  2010-10-23 14:07:03  \n",
       "7  2010-10-23 14:06:43  \n",
       "8  2010-10-23 14:13:25  \n",
       "9  2010-10-23 13:59:05  \n",
       "10 2010-10-23 14:25:54  \n",
       "11 2010-10-23 14:23:10  \n",
       "12 2010-10-23 14:18:45  \n",
       "13 2010-10-23 14:15:04  \n",
       "14 2010-10-23 14:08:58  \n",
       "15 2010-10-23 14:05:24  \n",
       "16 2010-10-23 13:58:50  \n",
       "17 2010-10-23 13:56:41  \n",
       "18 2010-10-23 13:56:28  \n",
       "19 2010-10-23 13:56:04  "
      ]
     },
     "execution_count": 17,
     "metadata": {},
     "output_type": "execute_result"
    }
   ],
   "source": [
    "%%time\n",
    "import json\n",
    "data_es['categories'] = data_es['categories'].apply(json.loads)\n",
    "data_es.head(20)"
   ]
  },
  {
   "cell_type": "code",
   "execution_count": 34,
   "id": "b6445217-7e42-4eae-9a3e-1709b36842e2",
   "metadata": {
    "tags": []
   },
   "outputs": [],
   "source": [
    "null_or_empty = data_es['categories'].isna() | (data_es['categories'].map(len) == 0)\n",
    "\n",
    "# Filter the DataFrame based on the condition\n",
    "filtered_df = data_es[null_or_empty]"
   ]
  },
  {
   "cell_type": "code",
   "execution_count": 38,
   "id": "97b4a0d7-edea-44c1-b96b-9c907301fe94",
   "metadata": {
    "tags": []
   },
   "outputs": [],
   "source": [
    "data_es.to_pickle('converted/df_es')"
   ]
  },
  {
   "cell_type": "code",
   "execution_count": 39,
   "id": "aa76e036-53aa-460a-9569-5c35956b2445",
   "metadata": {
    "tags": []
   },
   "outputs": [
    {
     "data": {
      "text/html": [
       "<div>\n",
       "<style scoped>\n",
       "    .dataframe tbody tr th:only-of-type {\n",
       "        vertical-align: middle;\n",
       "    }\n",
       "\n",
       "    .dataframe tbody tr th {\n",
       "        vertical-align: top;\n",
       "    }\n",
       "\n",
       "    .dataframe thead th {\n",
       "        text-align: right;\n",
       "    }\n",
       "</style>\n",
       "<table border=\"1\" class=\"dataframe\">\n",
       "  <thead>\n",
       "    <tr style=\"text-align: right;\">\n",
       "      <th></th>\n",
       "      <th>title</th>\n",
       "      <th>user</th>\n",
       "      <th>timestamp</th>\n",
       "      <th>categories</th>\n",
       "      <th>datetime</th>\n",
       "    </tr>\n",
       "  </thead>\n",
       "  <tbody>\n",
       "    <tr>\n",
       "      <th>1039298</th>\n",
       "      <td>Carlos_Slim</td>\n",
       "      <td>Asfarer</td>\n",
       "      <td>1271945500</td>\n",
       "      <td>[derecho, eventos, filosofia, historia, politica]</td>\n",
       "      <td>2010-04-22 14:11:40</td>\n",
       "    </tr>\n",
       "    <tr>\n",
       "      <th>11988716</th>\n",
       "      <td>Gonzalo_de_Alvarado</td>\n",
       "      <td>88.87.214.30</td>\n",
       "      <td>1203526717</td>\n",
       "      <td>[derecho, filosofia, historia, politica]</td>\n",
       "      <td>2008-02-20 16:58:37</td>\n",
       "    </tr>\n",
       "    <tr>\n",
       "      <th>9696685</th>\n",
       "      <td>Avenida_Cristóbal_Colón_(Santiago)</td>\n",
       "      <td>142.59.109.203</td>\n",
       "      <td>1162960439</td>\n",
       "      <td>[historia]</td>\n",
       "      <td>2006-11-08 04:33:59</td>\n",
       "    </tr>\n",
       "    <tr>\n",
       "      <th>9464047</th>\n",
       "      <td>Prunus_spinosa</td>\n",
       "      <td>Cookie</td>\n",
       "      <td>1173997203</td>\n",
       "      <td>[geografia, historia, naturaleza, salud]</td>\n",
       "      <td>2007-03-15 22:20:03</td>\n",
       "    </tr>\n",
       "    <tr>\n",
       "      <th>4400751</th>\n",
       "      <td>Ana_Lucía_Domínguez</td>\n",
       "      <td>Tigresoft</td>\n",
       "      <td>1186162316</td>\n",
       "      <td>[arte, derecho, eventos, filosofia, historia]</td>\n",
       "      <td>2007-08-03 17:31:56</td>\n",
       "    </tr>\n",
       "    <tr>\n",
       "      <th>12818984</th>\n",
       "      <td>Counter-Strike</td>\n",
       "      <td>FedericoMP</td>\n",
       "      <td>1170280006</td>\n",
       "      <td>[derecho]</td>\n",
       "      <td>2007-01-31 21:46:46</td>\n",
       "    </tr>\n",
       "    <tr>\n",
       "      <th>1256130</th>\n",
       "      <td>Estadio_North_Harbour</td>\n",
       "      <td>YoaR</td>\n",
       "      <td>1244983679</td>\n",
       "      <td>[arte, deporte, eventos, historia]</td>\n",
       "      <td>2009-06-14 12:47:59</td>\n",
       "    </tr>\n",
       "    <tr>\n",
       "      <th>4316677</th>\n",
       "      <td>Función_cuadrática</td>\n",
       "      <td>Paisvasco</td>\n",
       "      <td>1279444341</td>\n",
       "      <td>[filosofia, matematica]</td>\n",
       "      <td>2010-07-18 09:12:21</td>\n",
       "    </tr>\n",
       "    <tr>\n",
       "      <th>16578713</th>\n",
       "      <td>Unión_Europea</td>\n",
       "      <td>RubencinMdE</td>\n",
       "      <td>1276265754</td>\n",
       "      <td>[derecho, eventos, filosofia, geografia, histo...</td>\n",
       "      <td>2010-06-11 14:15:54</td>\n",
       "    </tr>\n",
       "    <tr>\n",
       "      <th>2881335</th>\n",
       "      <td>Somos_tú_y_yo</td>\n",
       "      <td>Marcos94</td>\n",
       "      <td>1223848289</td>\n",
       "      <td>[arte, historia]</td>\n",
       "      <td>2008-10-12 21:51:29</td>\n",
       "    </tr>\n",
       "    <tr>\n",
       "      <th>16585618</th>\n",
       "      <td>Testigos_de_Jehová</td>\n",
       "      <td>Rodgarcia</td>\n",
       "      <td>1173734821</td>\n",
       "      <td>[religion]</td>\n",
       "      <td>2007-03-12 21:27:01</td>\n",
       "    </tr>\n",
       "    <tr>\n",
       "      <th>9698076</th>\n",
       "      <td>Ana_de_Mendoza_de_la_Cerda</td>\n",
       "      <td>Truckerruud</td>\n",
       "      <td>1235893813</td>\n",
       "      <td>[derecho, eventos, filosofia, geografia, histo...</td>\n",
       "      <td>2009-03-01 07:50:13</td>\n",
       "    </tr>\n",
       "    <tr>\n",
       "      <th>6885054</th>\n",
       "      <td>Sofía_de_Nassau</td>\n",
       "      <td>200.65.68.238</td>\n",
       "      <td>1158687524</td>\n",
       "      <td>[derecho, eventos, filosofia, historia, politica]</td>\n",
       "      <td>2006-09-19 17:38:44</td>\n",
       "    </tr>\n",
       "    <tr>\n",
       "      <th>2487662</th>\n",
       "      <td>Marija_Ilieva</td>\n",
       "      <td>Superzerocool</td>\n",
       "      <td>1245552256</td>\n",
       "      <td>[arte, derecho, eventos, filosofia, historia]</td>\n",
       "      <td>2009-06-21 02:44:16</td>\n",
       "    </tr>\n",
       "    <tr>\n",
       "      <th>5126418</th>\n",
       "      <td>Rosario_Puga</td>\n",
       "      <td>Akhram</td>\n",
       "      <td>1198459916</td>\n",
       "      <td>[derecho, eventos, filosofia, historia, politica]</td>\n",
       "      <td>2007-12-24 01:31:56</td>\n",
       "    </tr>\n",
       "    <tr>\n",
       "      <th>12308234</th>\n",
       "      <td>La_Niña</td>\n",
       "      <td>MiguelAngel_fotografo</td>\n",
       "      <td>1196240572</td>\n",
       "      <td>[geografia, historia, politica]</td>\n",
       "      <td>2007-11-28 09:02:52</td>\n",
       "    </tr>\n",
       "    <tr>\n",
       "      <th>484867</th>\n",
       "      <td>Javier_Gómez_(actor)</td>\n",
       "      <td>Eduardosalg</td>\n",
       "      <td>1273882003</td>\n",
       "      <td>[arte, derecho, eventos, filosofia, geografia,...</td>\n",
       "      <td>2010-05-15 00:06:43</td>\n",
       "    </tr>\n",
       "    <tr>\n",
       "      <th>15862825</th>\n",
       "      <td>Miguel_Ángel</td>\n",
       "      <td>200.68.38.34</td>\n",
       "      <td>1178881109</td>\n",
       "      <td>[arte, derecho, eventos, filosofia, historia, ...</td>\n",
       "      <td>2007-05-11 10:58:29</td>\n",
       "    </tr>\n",
       "    <tr>\n",
       "      <th>16674082</th>\n",
       "      <td>Puerto_Rico</td>\n",
       "      <td>Durero</td>\n",
       "      <td>1196882240</td>\n",
       "      <td>[derecho, geografia, historia, politica]</td>\n",
       "      <td>2007-12-05 19:17:20</td>\n",
       "    </tr>\n",
       "    <tr>\n",
       "      <th>6690835</th>\n",
       "      <td>Shaka_de_Virgo</td>\n",
       "      <td>190.72.135.226</td>\n",
       "      <td>1196402179</td>\n",
       "      <td>[arte]</td>\n",
       "      <td>2007-11-30 05:56:19</td>\n",
       "    </tr>\n",
       "  </tbody>\n",
       "</table>\n",
       "</div>"
      ],
      "text/plain": [
       "                                       title                   user  \\\n",
       "1039298                          Carlos_Slim                Asfarer   \n",
       "11988716                 Gonzalo_de_Alvarado           88.87.214.30   \n",
       "9696685   Avenida_Cristóbal_Colón_(Santiago)         142.59.109.203   \n",
       "9464047                       Prunus_spinosa                 Cookie   \n",
       "4400751                  Ana_Lucía_Domínguez              Tigresoft   \n",
       "12818984                      Counter-Strike             FedericoMP   \n",
       "1256130                Estadio_North_Harbour                   YoaR   \n",
       "4316677                   Función_cuadrática              Paisvasco   \n",
       "16578713                       Unión_Europea            RubencinMdE   \n",
       "2881335                        Somos_tú_y_yo               Marcos94   \n",
       "16585618                  Testigos_de_Jehová              Rodgarcia   \n",
       "9698076           Ana_de_Mendoza_de_la_Cerda            Truckerruud   \n",
       "6885054                      Sofía_de_Nassau          200.65.68.238   \n",
       "2487662                        Marija_Ilieva          Superzerocool   \n",
       "5126418                         Rosario_Puga                 Akhram   \n",
       "12308234                             La_Niña  MiguelAngel_fotografo   \n",
       "484867                  Javier_Gómez_(actor)            Eduardosalg   \n",
       "15862825                        Miguel_Ángel           200.68.38.34   \n",
       "16674082                         Puerto_Rico                 Durero   \n",
       "6690835                       Shaka_de_Virgo         190.72.135.226   \n",
       "\n",
       "           timestamp                                         categories  \\\n",
       "1039298   1271945500  [derecho, eventos, filosofia, historia, politica]   \n",
       "11988716  1203526717           [derecho, filosofia, historia, politica]   \n",
       "9696685   1162960439                                         [historia]   \n",
       "9464047   1173997203           [geografia, historia, naturaleza, salud]   \n",
       "4400751   1186162316      [arte, derecho, eventos, filosofia, historia]   \n",
       "12818984  1170280006                                          [derecho]   \n",
       "1256130   1244983679                 [arte, deporte, eventos, historia]   \n",
       "4316677   1279444341                            [filosofia, matematica]   \n",
       "16578713  1276265754  [derecho, eventos, filosofia, geografia, histo...   \n",
       "2881335   1223848289                                   [arte, historia]   \n",
       "16585618  1173734821                                         [religion]   \n",
       "9698076   1235893813  [derecho, eventos, filosofia, geografia, histo...   \n",
       "6885054   1158687524  [derecho, eventos, filosofia, historia, politica]   \n",
       "2487662   1245552256      [arte, derecho, eventos, filosofia, historia]   \n",
       "5126418   1198459916  [derecho, eventos, filosofia, historia, politica]   \n",
       "12308234  1196240572                    [geografia, historia, politica]   \n",
       "484867    1273882003  [arte, derecho, eventos, filosofia, geografia,...   \n",
       "15862825  1178881109  [arte, derecho, eventos, filosofia, historia, ...   \n",
       "16674082  1196882240           [derecho, geografia, historia, politica]   \n",
       "6690835   1196402179                                             [arte]   \n",
       "\n",
       "                    datetime  \n",
       "1039298  2010-04-22 14:11:40  \n",
       "11988716 2008-02-20 16:58:37  \n",
       "9696685  2006-11-08 04:33:59  \n",
       "9464047  2007-03-15 22:20:03  \n",
       "4400751  2007-08-03 17:31:56  \n",
       "12818984 2007-01-31 21:46:46  \n",
       "1256130  2009-06-14 12:47:59  \n",
       "4316677  2010-07-18 09:12:21  \n",
       "16578713 2010-06-11 14:15:54  \n",
       "2881335  2008-10-12 21:51:29  \n",
       "16585618 2007-03-12 21:27:01  \n",
       "9698076  2009-03-01 07:50:13  \n",
       "6885054  2006-09-19 17:38:44  \n",
       "2487662  2009-06-21 02:44:16  \n",
       "5126418  2007-12-24 01:31:56  \n",
       "12308234 2007-11-28 09:02:52  \n",
       "484867   2010-05-15 00:06:43  \n",
       "15862825 2007-05-11 10:58:29  \n",
       "16674082 2007-12-05 19:17:20  \n",
       "6690835  2007-11-30 05:56:19  "
      ]
     },
     "execution_count": 39,
     "metadata": {},
     "output_type": "execute_result"
    }
   ],
   "source": [
    "data_es.sample(20)"
   ]
  },
  {
   "cell_type": "code",
   "execution_count": 40,
   "id": "fb93104a-ab0a-4864-b37b-db9bf9998210",
   "metadata": {
    "tags": []
   },
   "outputs": [],
   "source": [
    "dfes_exploded = data_es.explode('categories')"
   ]
  },
  {
   "cell_type": "code",
   "execution_count": 41,
   "id": "71443471-780d-4837-8900-c31d39174abb",
   "metadata": {
    "tags": []
   },
   "outputs": [
    {
     "data": {
      "text/plain": [
       "categories\n",
       "arte          1165179\n",
       "deporte        398988\n",
       "derecho       1102277\n",
       "eventos        998607\n",
       "filosofia     1302309\n",
       "geografia      716028\n",
       "historia      1709310\n",
       "juegos         124548\n",
       "matematica     159728\n",
       "naturaleza     867772\n",
       "politica       868474\n",
       "religion       372573\n",
       "salud          432283\n",
       "Name: user, dtype: int64"
      ]
     },
     "execution_count": 41,
     "metadata": {},
     "output_type": "execute_result"
    }
   ],
   "source": [
    "users_per_category_es = dfes_exploded.groupby('categories')['user'].nunique()\n",
    "users_per_category_es"
   ]
  },
  {
   "cell_type": "markdown",
   "id": "700da632-0121-4a00-baa5-936a02035149",
   "metadata": {},
   "source": [
    "## Process deutch data"
   ]
  },
  {
   "cell_type": "code",
   "execution_count": 3,
   "id": "4b019799-7a4a-443a-858c-cf3e42185570",
   "metadata": {
    "tags": []
   },
   "outputs": [],
   "source": [
    "file_path = 'WPData/de_wiki.txt'\n",
    "replace_in_file_comma_spaces(file_path)"
   ]
  },
  {
   "cell_type": "code",
   "execution_count": 8,
   "id": "47ce687a-58c0-4d3a-9ff1-e0103ed8cc82",
   "metadata": {
    "tags": []
   },
   "outputs": [],
   "source": [
    "data_de=load_and_prepare_data('WPData/de_wiki.txt')"
   ]
  },
  {
   "cell_type": "code",
   "execution_count": 9,
   "id": "55808038-02f7-443d-9d2f-12db2d6bc767",
   "metadata": {
    "tags": []
   },
   "outputs": [],
   "source": [
    "import json\n",
    "\n",
    "data_de['categories'] = data_de['categories'].apply(json.loads)"
   ]
  },
  {
   "cell_type": "code",
   "execution_count": 10,
   "id": "5661003e-1e86-4c09-95cc-24227457858b",
   "metadata": {
    "tags": []
   },
   "outputs": [
    {
     "data": {
      "text/html": [
       "<div>\n",
       "<style scoped>\n",
       "    .dataframe tbody tr th:only-of-type {\n",
       "        vertical-align: middle;\n",
       "    }\n",
       "\n",
       "    .dataframe tbody tr th {\n",
       "        vertical-align: top;\n",
       "    }\n",
       "\n",
       "    .dataframe thead th {\n",
       "        text-align: right;\n",
       "    }\n",
       "</style>\n",
       "<table border=\"1\" class=\"dataframe\">\n",
       "  <thead>\n",
       "    <tr style=\"text-align: right;\">\n",
       "      <th></th>\n",
       "      <th>title</th>\n",
       "      <th>user</th>\n",
       "      <th>timestamp</th>\n",
       "      <th>categories</th>\n",
       "      <th>datetime</th>\n",
       "    </tr>\n",
       "  </thead>\n",
       "  <tbody>\n",
       "    <tr>\n",
       "      <th>9827145</th>\n",
       "      <td>Robert_Anderson_(Polizist)</td>\n",
       "      <td>Gaudio</td>\n",
       "      <td>1243867238</td>\n",
       "      <td>[religion]</td>\n",
       "      <td>2009-06-01 14:40:38</td>\n",
       "    </tr>\n",
       "    <tr>\n",
       "      <th>15920825</th>\n",
       "      <td>Stabkirche_Heddal</td>\n",
       "      <td>Pinzgauer</td>\n",
       "      <td>1155159157</td>\n",
       "      <td>[arte, religion]</td>\n",
       "      <td>2006-08-09 21:32:37</td>\n",
       "    </tr>\n",
       "    <tr>\n",
       "      <th>10973172</th>\n",
       "      <td>Liste_Schweizer_Schriftsteller</td>\n",
       "      <td>ThoR</td>\n",
       "      <td>1209512287</td>\n",
       "      <td>[arte]</td>\n",
       "      <td>2008-04-29 23:38:07</td>\n",
       "    </tr>\n",
       "    <tr>\n",
       "      <th>23439587</th>\n",
       "      <td>Architektur_der_Renaissance</td>\n",
       "      <td>Giano_II</td>\n",
       "      <td>1161526986</td>\n",
       "      <td>[arte, historia]</td>\n",
       "      <td>2006-10-22 14:23:06</td>\n",
       "    </tr>\n",
       "    <tr>\n",
       "      <th>1274519</th>\n",
       "      <td>Vincent_van_Gogh</td>\n",
       "      <td>HaeB</td>\n",
       "      <td>1137004044</td>\n",
       "      <td>[arte, religion]</td>\n",
       "      <td>2006-01-11 18:27:24</td>\n",
       "    </tr>\n",
       "    <tr>\n",
       "      <th>14159704</th>\n",
       "      <td>Ada_(Karien)</td>\n",
       "      <td>Bergantini</td>\n",
       "      <td>1243361661</td>\n",
       "      <td>[arte]</td>\n",
       "      <td>2009-05-26 18:14:21</td>\n",
       "    </tr>\n",
       "    <tr>\n",
       "      <th>2900038</th>\n",
       "      <td>Paul_Heyse</td>\n",
       "      <td>Aka</td>\n",
       "      <td>1142680138</td>\n",
       "      <td>[arte]</td>\n",
       "      <td>2006-03-18 11:08:58</td>\n",
       "    </tr>\n",
       "    <tr>\n",
       "      <th>170638</th>\n",
       "      <td>Demokratie</td>\n",
       "      <td>Helenopel</td>\n",
       "      <td>1229190979</td>\n",
       "      <td>[derecho, filosofia, historia, politica]</td>\n",
       "      <td>2008-12-13 17:56:19</td>\n",
       "    </tr>\n",
       "    <tr>\n",
       "      <th>18915691</th>\n",
       "      <td>UEFA-Pokal_2008/09</td>\n",
       "      <td>Wiki12345</td>\n",
       "      <td>1222547376</td>\n",
       "      <td>[deporte]</td>\n",
       "      <td>2008-09-27 20:29:36</td>\n",
       "    </tr>\n",
       "    <tr>\n",
       "      <th>22317156</th>\n",
       "      <td>Danijel_Aleksić</td>\n",
       "      <td>Muck31</td>\n",
       "      <td>1251666980</td>\n",
       "      <td>[deporte]</td>\n",
       "      <td>2009-08-30 21:16:20</td>\n",
       "    </tr>\n",
       "  </tbody>\n",
       "</table>\n",
       "</div>"
      ],
      "text/plain": [
       "                                   title        user   timestamp  \\\n",
       "9827145       Robert_Anderson_(Polizist)      Gaudio  1243867238   \n",
       "15920825               Stabkirche_Heddal   Pinzgauer  1155159157   \n",
       "10973172  Liste_Schweizer_Schriftsteller        ThoR  1209512287   \n",
       "23439587     Architektur_der_Renaissance    Giano_II  1161526986   \n",
       "1274519                 Vincent_van_Gogh        HaeB  1137004044   \n",
       "14159704                    Ada_(Karien)  Bergantini  1243361661   \n",
       "2900038                       Paul_Heyse         Aka  1142680138   \n",
       "170638                        Demokratie   Helenopel  1229190979   \n",
       "18915691              UEFA-Pokal_2008/09   Wiki12345  1222547376   \n",
       "22317156                 Danijel_Aleksić      Muck31  1251666980   \n",
       "\n",
       "                                        categories            datetime  \n",
       "9827145                                 [religion] 2009-06-01 14:40:38  \n",
       "15920825                          [arte, religion] 2006-08-09 21:32:37  \n",
       "10973172                                    [arte] 2008-04-29 23:38:07  \n",
       "23439587                          [arte, historia] 2006-10-22 14:23:06  \n",
       "1274519                           [arte, religion] 2006-01-11 18:27:24  \n",
       "14159704                                    [arte] 2009-05-26 18:14:21  \n",
       "2900038                                     [arte] 2006-03-18 11:08:58  \n",
       "170638    [derecho, filosofia, historia, politica] 2008-12-13 17:56:19  \n",
       "18915691                                 [deporte] 2008-09-27 20:29:36  \n",
       "22317156                                 [deporte] 2009-08-30 21:16:20  "
      ]
     },
     "execution_count": 10,
     "metadata": {},
     "output_type": "execute_result"
    }
   ],
   "source": [
    "data_de.sample(10)"
   ]
  },
  {
   "cell_type": "code",
   "execution_count": 11,
   "id": "7d393848-a67c-4c23-80b5-6383d2f693c6",
   "metadata": {
    "tags": []
   },
   "outputs": [],
   "source": [
    "data_de.to_pickle('converted/df_de')"
   ]
  },
  {
   "cell_type": "code",
   "execution_count": 15,
   "id": "b18bc5bd-07b5-4d90-ba3d-f92101f59b92",
   "metadata": {
    "tags": []
   },
   "outputs": [
    {
     "name": "stdout",
     "output_type": "stream",
     "text": [
      "Deutch unique users: 357575\n"
     ]
    }
   ],
   "source": [
    "unique_users_de = data_de['user'].nunique()\n",
    "print(\"Deutch unique users:\", unique_users_de)"
   ]
  },
  {
   "cell_type": "code",
   "execution_count": 18,
   "id": "d0a7eb57-de01-4754-8600-e5e86133c15e",
   "metadata": {
    "tags": []
   },
   "outputs": [
    {
     "name": "stdout",
     "output_type": "stream",
     "text": [
      "Deutch users by category:\n"
     ]
    },
    {
     "data": {
      "text/plain": [
       "categories\n",
       "arte          235673\n",
       "deporte        65686\n",
       "derecho        69434\n",
       "eventos        61160\n",
       "filosofia      27019\n",
       "geografia     107563\n",
       "historia      143560\n",
       "juegos         22460\n",
       "matematica     19301\n",
       "naturaleza     79276\n",
       "politica      133351\n",
       "religion       73279\n",
       "salud          24653\n",
       "Name: user, dtype: int64"
      ]
     },
     "execution_count": 18,
     "metadata": {},
     "output_type": "execute_result"
    }
   ],
   "source": [
    "#dfde_exploded = data_de.explode('categories')\n",
    "#users_per_category_de = dfde_exploded.groupby('categories')['user'].nunique()\n",
    "print(\"Deutch users by category:\")\n",
    "users_per_category_de"
   ]
  },
  {
   "cell_type": "markdown",
   "id": "6d2589eb-27de-4c84-86ce-6145ab939536",
   "metadata": {},
   "source": [
    "# Processing AR data"
   ]
  },
  {
   "cell_type": "code",
   "execution_count": 20,
   "id": "1c5c3180-b999-47d9-a8cb-a3c70f610e38",
   "metadata": {
    "tags": []
   },
   "outputs": [],
   "source": [
    "file_path = 'WPData/ar_wp.txt'\n",
    "replace_in_file_comma_spaces(file_path)"
   ]
  },
  {
   "cell_type": "code",
   "execution_count": 27,
   "id": "385fdaf4-2b07-495f-a110-ddcb2ed6f668",
   "metadata": {
    "tags": []
   },
   "outputs": [],
   "source": [
    "data_ar=load_and_prepare_data('WPData/ar_wp.txt')\n",
    "import json\n",
    "\n",
    "data_ar['categories'] = data_ar['categories'].apply(json.loads)"
   ]
  },
  {
   "cell_type": "code",
   "execution_count": 30,
   "id": "e9a55b59-b851-460b-99bc-d163fe9bc19c",
   "metadata": {
    "tags": []
   },
   "outputs": [
    {
     "data": {
      "text/html": [
       "<div>\n",
       "<style scoped>\n",
       "    .dataframe tbody tr th:only-of-type {\n",
       "        vertical-align: middle;\n",
       "    }\n",
       "\n",
       "    .dataframe tbody tr th {\n",
       "        vertical-align: top;\n",
       "    }\n",
       "\n",
       "    .dataframe thead th {\n",
       "        text-align: right;\n",
       "    }\n",
       "</style>\n",
       "<table border=\"1\" class=\"dataframe\">\n",
       "  <thead>\n",
       "    <tr style=\"text-align: right;\">\n",
       "      <th></th>\n",
       "      <th>title</th>\n",
       "      <th>user</th>\n",
       "      <th>timestamp</th>\n",
       "      <th>categories</th>\n",
       "      <th>datetime</th>\n",
       "    </tr>\n",
       "  </thead>\n",
       "  <tbody>\n",
       "    <tr>\n",
       "      <th>0</th>\n",
       "      <td>ماء</td>\n",
       "      <td>piolinfax</td>\n",
       "      <td>1057882982</td>\n",
       "      <td>[art, foods, games, geography, health, history...</td>\n",
       "      <td>2003-07-11 00:23:02</td>\n",
       "    </tr>\n",
       "    <tr>\n",
       "      <th>1</th>\n",
       "      <td>ماء</td>\n",
       "      <td>piolinfaxx</td>\n",
       "      <td>1058466271</td>\n",
       "      <td>[art, foods, games, geography, health, history...</td>\n",
       "      <td>2003-07-17 18:24:31</td>\n",
       "    </tr>\n",
       "    <tr>\n",
       "      <th>2</th>\n",
       "      <td>ماء</td>\n",
       "      <td>piolinfaxx</td>\n",
       "      <td>1058466334</td>\n",
       "      <td>[art, foods, games, geography, health, history...</td>\n",
       "      <td>2003-07-17 18:25:34</td>\n",
       "    </tr>\n",
       "    <tr>\n",
       "      <th>3</th>\n",
       "      <td>ماء</td>\n",
       "      <td>piolinfaxx</td>\n",
       "      <td>1058466421</td>\n",
       "      <td>[art, foods, games, geography, health, history...</td>\n",
       "      <td>2003-07-17 18:27:01</td>\n",
       "    </tr>\n",
       "    <tr>\n",
       "      <th>4</th>\n",
       "      <td>ماء</td>\n",
       "      <td>piolinfaxx</td>\n",
       "      <td>1062962670</td>\n",
       "      <td>[art, foods, games, geography, health, history...</td>\n",
       "      <td>2003-09-07 19:24:30</td>\n",
       "    </tr>\n",
       "    <tr>\n",
       "      <th>5</th>\n",
       "      <td>ماء</td>\n",
       "      <td>piolinfaxx</td>\n",
       "      <td>1062963400</td>\n",
       "      <td>[art, foods, games, geography, health, history...</td>\n",
       "      <td>2003-09-07 19:36:40</td>\n",
       "    </tr>\n",
       "    <tr>\n",
       "      <th>6</th>\n",
       "      <td>ماء</td>\n",
       "      <td>traroth</td>\n",
       "      <td>1064325118</td>\n",
       "      <td>[art, foods, games, geography, health, history...</td>\n",
       "      <td>2003-09-23 13:51:58</td>\n",
       "    </tr>\n",
       "    <tr>\n",
       "      <th>7</th>\n",
       "      <td>ماء</td>\n",
       "      <td>عصام_بايزيدي</td>\n",
       "      <td>1076234052</td>\n",
       "      <td>[art, foods, games, geography, health, history...</td>\n",
       "      <td>2004-02-08 09:54:12</td>\n",
       "    </tr>\n",
       "    <tr>\n",
       "      <th>8</th>\n",
       "      <td>ماء</td>\n",
       "      <td>عصام_بايزيدي</td>\n",
       "      <td>1080825850</td>\n",
       "      <td>[art, foods, games, geography, health, history...</td>\n",
       "      <td>2004-04-01 13:24:10</td>\n",
       "    </tr>\n",
       "    <tr>\n",
       "      <th>9</th>\n",
       "      <td>ماء</td>\n",
       "      <td>عصام_بايزيدي</td>\n",
       "      <td>1080825869</td>\n",
       "      <td>[art, foods, games, geography, health, history...</td>\n",
       "      <td>2004-04-01 13:24:29</td>\n",
       "    </tr>\n",
       "  </tbody>\n",
       "</table>\n",
       "</div>"
      ],
      "text/plain": [
       "  title          user   timestamp  \\\n",
       "0   ماء     piolinfax  1057882982   \n",
       "1   ماء    piolinfaxx  1058466271   \n",
       "2   ماء    piolinfaxx  1058466334   \n",
       "3   ماء    piolinfaxx  1058466421   \n",
       "4   ماء    piolinfaxx  1062962670   \n",
       "5   ماء    piolinfaxx  1062963400   \n",
       "6   ماء       traroth  1064325118   \n",
       "7   ماء  عصام_بايزيدي  1076234052   \n",
       "8   ماء  عصام_بايزيدي  1080825850   \n",
       "9   ماء  عصام_بايزيدي  1080825869   \n",
       "\n",
       "                                          categories            datetime  \n",
       "0  [art, foods, games, geography, health, history... 2003-07-11 00:23:02  \n",
       "1  [art, foods, games, geography, health, history... 2003-07-17 18:24:31  \n",
       "2  [art, foods, games, geography, health, history... 2003-07-17 18:25:34  \n",
       "3  [art, foods, games, geography, health, history... 2003-07-17 18:27:01  \n",
       "4  [art, foods, games, geography, health, history... 2003-09-07 19:24:30  \n",
       "5  [art, foods, games, geography, health, history... 2003-09-07 19:36:40  \n",
       "6  [art, foods, games, geography, health, history... 2003-09-23 13:51:58  \n",
       "7  [art, foods, games, geography, health, history... 2004-02-08 09:54:12  \n",
       "8  [art, foods, games, geography, health, history... 2004-04-01 13:24:10  \n",
       "9  [art, foods, games, geography, health, history... 2004-04-01 13:24:29  "
      ]
     },
     "execution_count": 30,
     "metadata": {},
     "output_type": "execute_result"
    }
   ],
   "source": [
    "data_ar.head(10)"
   ]
  },
  {
   "cell_type": "code",
   "execution_count": 29,
   "id": "0b10a51d-ed7a-4d09-a592-62f57a55155c",
   "metadata": {
    "tags": []
   },
   "outputs": [],
   "source": [
    "data_ar.to_pickle('converted/df_ar')"
   ]
  },
  {
   "cell_type": "code",
   "execution_count": 33,
   "id": "c2d7f1f5-3db1-44b8-8f32-effe982079e2",
   "metadata": {
    "tags": []
   },
   "outputs": [
    {
     "name": "stdout",
     "output_type": "stream",
     "text": [
      "AR unique users: 23641\n",
      "AR users by category:\n"
     ]
    },
    {
     "data": {
      "text/plain": [
       "categories\n",
       "art            20669\n",
       "events         14185\n",
       "foods           2021\n",
       "games           4753\n",
       "geography      20347\n",
       "health         13616\n",
       "history        21199\n",
       "mathematics     6780\n",
       "nature         22499\n",
       "philosophy     15086\n",
       "politics       21953\n",
       "religion       14612\n",
       "rights          7980\n",
       "sports          6940\n",
       "Name: user, dtype: int64"
      ]
     },
     "execution_count": 33,
     "metadata": {},
     "output_type": "execute_result"
    }
   ],
   "source": [
    "unique_users_ar = data_ar['user'].nunique()\n",
    "print(\"AR unique users:\", unique_users_ar)\n",
    "dfar_exploded = data_de.explode('categories')\n",
    "users_per_category_ar = dfar_exploded.groupby('categories')['user'].nunique()\n",
    "print(\"AR users by category:\")\n",
    "users_per_category_ar"
   ]
  },
  {
   "cell_type": "markdown",
   "id": "d48742eb-95e5-4bce-ad51-2ec45ac2e504",
   "metadata": {},
   "source": [
    "## Processing HU Data"
   ]
  },
  {
   "cell_type": "code",
   "execution_count": 38,
   "id": "80f284a8-544e-4e85-90c8-65b6cb7b7316",
   "metadata": {
    "tags": []
   },
   "outputs": [],
   "source": [
    "file_path = 'WPData/hu_wiki.txt'\n",
    "replace_in_file_comma_spaces(file_path)\n",
    "replace_in_file_spaces(file_path)"
   ]
  },
  {
   "cell_type": "code",
   "execution_count": 39,
   "id": "5a30ed58-7fde-4b6e-bad5-4ecf25b25cee",
   "metadata": {
    "tags": []
   },
   "outputs": [],
   "source": [
    "data_hu=load_and_prepare_data('WPData/hu_wiki.txt')\n",
    "import json\n",
    "\n",
    "data_hu['categories'] = data_hu['categories'].apply(json.loads)"
   ]
  },
  {
   "cell_type": "code",
   "execution_count": 40,
   "id": "699f8257-9074-406a-a017-2d32c690ee5e",
   "metadata": {
    "tags": []
   },
   "outputs": [
    {
     "data": {
      "text/html": [
       "<div>\n",
       "<style scoped>\n",
       "    .dataframe tbody tr th:only-of-type {\n",
       "        vertical-align: middle;\n",
       "    }\n",
       "\n",
       "    .dataframe tbody tr th {\n",
       "        vertical-align: top;\n",
       "    }\n",
       "\n",
       "    .dataframe thead th {\n",
       "        text-align: right;\n",
       "    }\n",
       "</style>\n",
       "<table border=\"1\" class=\"dataframe\">\n",
       "  <thead>\n",
       "    <tr style=\"text-align: right;\">\n",
       "      <th></th>\n",
       "      <th>title</th>\n",
       "      <th>user</th>\n",
       "      <th>timestamp</th>\n",
       "      <th>categories</th>\n",
       "      <th>datetime</th>\n",
       "    </tr>\n",
       "  </thead>\n",
       "  <tbody>\n",
       "    <tr>\n",
       "      <th>2410790</th>\n",
       "      <td>Karl_May</td>\n",
       "      <td>Fausto</td>\n",
       "      <td>1253460335</td>\n",
       "      <td>[arte, historia, naturaleza]</td>\n",
       "      <td>2009-09-20 15:25:35</td>\n",
       "    </tr>\n",
       "    <tr>\n",
       "      <th>1923320</th>\n",
       "      <td>Bod_Péter</td>\n",
       "      <td>Csigabi</td>\n",
       "      <td>1250698031</td>\n",
       "      <td>[arte, derecho, historia, politica, religion]</td>\n",
       "      <td>2009-08-19 16:07:11</td>\n",
       "    </tr>\n",
       "    <tr>\n",
       "      <th>2662800</th>\n",
       "      <td>A_Magyar_Tudományos_Akadémia_tagjainak_listája...</td>\n",
       "      <td>Pasztilla</td>\n",
       "      <td>1286822482</td>\n",
       "      <td>[geografia]</td>\n",
       "      <td>2010-10-11 18:41:22</td>\n",
       "    </tr>\n",
       "    <tr>\n",
       "      <th>1209292</th>\n",
       "      <td>Ökölvívók_listája</td>\n",
       "      <td>Tyr</td>\n",
       "      <td>1196097867</td>\n",
       "      <td>[deporte]</td>\n",
       "      <td>2007-11-26 17:24:27</td>\n",
       "    </tr>\n",
       "    <tr>\n",
       "      <th>641410</th>\n",
       "      <td>Olimpiai_negyedik_helyezett_magyar_sportolók_l...</td>\n",
       "      <td>Karesz52</td>\n",
       "      <td>1221978219</td>\n",
       "      <td>[deporte, eventos]</td>\n",
       "      <td>2008-09-21 06:23:39</td>\n",
       "    </tr>\n",
       "    <tr>\n",
       "      <th>1699198</th>\n",
       "      <td>Szerb_Radikális_Párt</td>\n",
       "      <td>TheGoaT</td>\n",
       "      <td>1161894585</td>\n",
       "      <td>[geografia, historia, politica]</td>\n",
       "      <td>2006-10-26 20:29:45</td>\n",
       "    </tr>\n",
       "    <tr>\n",
       "      <th>881704</th>\n",
       "      <td>Tinód</td>\n",
       "      <td>Kossuthzs.</td>\n",
       "      <td>1205321618</td>\n",
       "      <td>[geografia, historia]</td>\n",
       "      <td>2008-03-12 11:33:38</td>\n",
       "    </tr>\n",
       "    <tr>\n",
       "      <th>47543</th>\n",
       "      <td>Aszó_(Bákó_megye)</td>\n",
       "      <td>Szabi237</td>\n",
       "      <td>1285690608</td>\n",
       "      <td>[geografia]</td>\n",
       "      <td>2010-09-28 16:16:48</td>\n",
       "    </tr>\n",
       "    <tr>\n",
       "      <th>2098225</th>\n",
       "      <td>Ibrahim_Rugova</td>\n",
       "      <td>Mazarin07</td>\n",
       "      <td>1198358304</td>\n",
       "      <td>[historia, politica, religion]</td>\n",
       "      <td>2007-12-22 21:18:24</td>\n",
       "    </tr>\n",
       "    <tr>\n",
       "      <th>1098464</th>\n",
       "      <td>Help_(a_gong)</td>\n",
       "      <td>Waltermattau</td>\n",
       "      <td>1193502474</td>\n",
       "      <td>[arte, historia]</td>\n",
       "      <td>2007-10-27 16:27:54</td>\n",
       "    </tr>\n",
       "  </tbody>\n",
       "</table>\n",
       "</div>"
      ],
      "text/plain": [
       "                                                     title          user  \\\n",
       "2410790                                           Karl_May        Fausto   \n",
       "1923320                                          Bod_Péter       Csigabi   \n",
       "2662800  A_Magyar_Tudományos_Akadémia_tagjainak_listája...     Pasztilla   \n",
       "1209292                                  Ökölvívók_listája           Tyr   \n",
       "641410   Olimpiai_negyedik_helyezett_magyar_sportolók_l...      Karesz52   \n",
       "1699198                               Szerb_Radikális_Párt       TheGoaT   \n",
       "881704                                               Tinód    Kossuthzs.   \n",
       "47543                                    Aszó_(Bákó_megye)      Szabi237   \n",
       "2098225                                     Ibrahim_Rugova     Mazarin07   \n",
       "1098464                                      Help_(a_gong)  Waltermattau   \n",
       "\n",
       "          timestamp                                     categories  \\\n",
       "2410790  1253460335                   [arte, historia, naturaleza]   \n",
       "1923320  1250698031  [arte, derecho, historia, politica, religion]   \n",
       "2662800  1286822482                                    [geografia]   \n",
       "1209292  1196097867                                      [deporte]   \n",
       "641410   1221978219                             [deporte, eventos]   \n",
       "1699198  1161894585                [geografia, historia, politica]   \n",
       "881704   1205321618                          [geografia, historia]   \n",
       "47543    1285690608                                    [geografia]   \n",
       "2098225  1198358304                 [historia, politica, religion]   \n",
       "1098464  1193502474                               [arte, historia]   \n",
       "\n",
       "                   datetime  \n",
       "2410790 2009-09-20 15:25:35  \n",
       "1923320 2009-08-19 16:07:11  \n",
       "2662800 2010-10-11 18:41:22  \n",
       "1209292 2007-11-26 17:24:27  \n",
       "641410  2008-09-21 06:23:39  \n",
       "1699198 2006-10-26 20:29:45  \n",
       "881704  2008-03-12 11:33:38  \n",
       "47543   2010-09-28 16:16:48  \n",
       "2098225 2007-12-22 21:18:24  \n",
       "1098464 2007-10-27 16:27:54  "
      ]
     },
     "execution_count": 40,
     "metadata": {},
     "output_type": "execute_result"
    }
   ],
   "source": [
    "data_hu.sample(10)"
   ]
  },
  {
   "cell_type": "code",
   "execution_count": 41,
   "id": "89026848-225a-446c-ac8b-59346318e036",
   "metadata": {
    "tags": []
   },
   "outputs": [],
   "source": [
    "data_hu.to_pickle('converted/df_hu')"
   ]
  },
  {
   "cell_type": "code",
   "execution_count": 42,
   "id": "47b21f87-e2f5-4ca0-a76f-f698b6eabe79",
   "metadata": {
    "tags": []
   },
   "outputs": [
    {
     "name": "stdout",
     "output_type": "stream",
     "text": [
      "AR unique users: 148067\n",
      "AR users by category:\n"
     ]
    },
    {
     "data": {
      "text/plain": [
       "categories\n",
       "arte          64258\n",
       "deporte       17787\n",
       "derecho       22921\n",
       "eventos       16989\n",
       "filosofia     14864\n",
       "geografia     66744\n",
       "historia      89581\n",
       "juegos         5715\n",
       "matematica     5909\n",
       "naturaleza    47036\n",
       "politica      42261\n",
       "religion      18491\n",
       "salud         10077\n",
       "Name: user, dtype: int64"
      ]
     },
     "execution_count": 42,
     "metadata": {},
     "output_type": "execute_result"
    }
   ],
   "source": [
    "unique_users_hu = data_hu['user'].nunique()\n",
    "print(\"AR unique users:\", unique_users_hu)\n",
    "dfhu_exploded = data_hu.explode('categories')\n",
    "users_per_category_hu = dfhu_exploded.groupby('categories')['user'].nunique()\n",
    "print(\"AR users by category:\")\n",
    "users_per_category_hu"
   ]
  },
  {
   "cell_type": "markdown",
   "id": "0139466c-7a1b-4e47-a0df-2694a69869e4",
   "metadata": {},
   "source": [
    "## Processing IT Data"
   ]
  },
  {
   "cell_type": "code",
   "execution_count": 43,
   "id": "94c5019d-cf16-4120-bb8c-20bdcac1d110",
   "metadata": {
    "tags": []
   },
   "outputs": [],
   "source": [
    "file_path = 'WPData/it_wiki.txt'\n",
    "replace_in_file_comma_spaces(file_path)"
   ]
  },
  {
   "cell_type": "code",
   "execution_count": 44,
   "id": "4433a7ef-8515-4f21-9e6f-ea7ff2b2582d",
   "metadata": {
    "tags": []
   },
   "outputs": [],
   "source": [
    "data_it=load_and_prepare_data('WPData/it_wiki.txt')\n",
    "import json\n",
    "\n",
    "data_it['categories'] = data_it['categories'].apply(json.loads)"
   ]
  },
  {
   "cell_type": "code",
   "execution_count": 45,
   "id": "9114ae11-6a66-4f64-9a2a-37cbdf3d0fc3",
   "metadata": {
    "tags": []
   },
   "outputs": [
    {
     "data": {
      "text/html": [
       "<div>\n",
       "<style scoped>\n",
       "    .dataframe tbody tr th:only-of-type {\n",
       "        vertical-align: middle;\n",
       "    }\n",
       "\n",
       "    .dataframe tbody tr th {\n",
       "        vertical-align: top;\n",
       "    }\n",
       "\n",
       "    .dataframe thead th {\n",
       "        text-align: right;\n",
       "    }\n",
       "</style>\n",
       "<table border=\"1\" class=\"dataframe\">\n",
       "  <thead>\n",
       "    <tr style=\"text-align: right;\">\n",
       "      <th></th>\n",
       "      <th>title</th>\n",
       "      <th>user</th>\n",
       "      <th>timestamp</th>\n",
       "      <th>categories</th>\n",
       "      <th>datetime</th>\n",
       "    </tr>\n",
       "  </thead>\n",
       "  <tbody>\n",
       "    <tr>\n",
       "      <th>0</th>\n",
       "      <td>Armonium</td>\n",
       "      <td>ppp-143-207.29-151.libero.it</td>\n",
       "      <td>1000462768</td>\n",
       "      <td>[arte, geografia]</td>\n",
       "      <td>2001-09-14 10:19:28</td>\n",
       "    </tr>\n",
       "    <tr>\n",
       "      <th>1</th>\n",
       "      <td>Armonium</td>\n",
       "      <td>Gianfranco</td>\n",
       "      <td>1039481542</td>\n",
       "      <td>[arte, geografia]</td>\n",
       "      <td>2002-12-10 00:52:22</td>\n",
       "    </tr>\n",
       "    <tr>\n",
       "      <th>2</th>\n",
       "      <td>Armonium</td>\n",
       "      <td>MikyT</td>\n",
       "      <td>1071179375</td>\n",
       "      <td>[arte, geografia]</td>\n",
       "      <td>2003-12-11 21:49:35</td>\n",
       "    </tr>\n",
       "    <tr>\n",
       "      <th>3</th>\n",
       "      <td>Armonium</td>\n",
       "      <td>Sbisolo</td>\n",
       "      <td>1073051385</td>\n",
       "      <td>[arte, geografia]</td>\n",
       "      <td>2004-01-02 13:49:45</td>\n",
       "    </tr>\n",
       "    <tr>\n",
       "      <th>4</th>\n",
       "      <td>Armonium</td>\n",
       "      <td>Twice25</td>\n",
       "      <td>1088372438</td>\n",
       "      <td>[arte, geografia]</td>\n",
       "      <td>2004-06-27 21:40:38</td>\n",
       "    </tr>\n",
       "    <tr>\n",
       "      <th>5</th>\n",
       "      <td>Armonium</td>\n",
       "      <td>Gac</td>\n",
       "      <td>1088575553</td>\n",
       "      <td>[arte, geografia]</td>\n",
       "      <td>2004-06-30 06:05:53</td>\n",
       "    </tr>\n",
       "    <tr>\n",
       "      <th>6</th>\n",
       "      <td>Armonium</td>\n",
       "      <td>Gac</td>\n",
       "      <td>1088575568</td>\n",
       "      <td>[arte, geografia]</td>\n",
       "      <td>2004-06-30 06:06:08</td>\n",
       "    </tr>\n",
       "    <tr>\n",
       "      <th>7</th>\n",
       "      <td>Armonium</td>\n",
       "      <td>Archenzo</td>\n",
       "      <td>1088621569</td>\n",
       "      <td>[arte, geografia]</td>\n",
       "      <td>2004-06-30 18:52:49</td>\n",
       "    </tr>\n",
       "    <tr>\n",
       "      <th>8</th>\n",
       "      <td>Armonium</td>\n",
       "      <td>Twice25</td>\n",
       "      <td>1091139099</td>\n",
       "      <td>[arte, geografia]</td>\n",
       "      <td>2004-07-29 22:11:39</td>\n",
       "    </tr>\n",
       "    <tr>\n",
       "      <th>9</th>\n",
       "      <td>Armonium</td>\n",
       "      <td>M7</td>\n",
       "      <td>1091141564</td>\n",
       "      <td>[arte, geografia]</td>\n",
       "      <td>2004-07-29 22:52:44</td>\n",
       "    </tr>\n",
       "  </tbody>\n",
       "</table>\n",
       "</div>"
      ],
      "text/plain": [
       "      title                          user   timestamp         categories  \\\n",
       "0  Armonium  ppp-143-207.29-151.libero.it  1000462768  [arte, geografia]   \n",
       "1  Armonium                    Gianfranco  1039481542  [arte, geografia]   \n",
       "2  Armonium                         MikyT  1071179375  [arte, geografia]   \n",
       "3  Armonium                       Sbisolo  1073051385  [arte, geografia]   \n",
       "4  Armonium                       Twice25  1088372438  [arte, geografia]   \n",
       "5  Armonium                           Gac  1088575553  [arte, geografia]   \n",
       "6  Armonium                           Gac  1088575568  [arte, geografia]   \n",
       "7  Armonium                      Archenzo  1088621569  [arte, geografia]   \n",
       "8  Armonium                       Twice25  1091139099  [arte, geografia]   \n",
       "9  Armonium                            M7  1091141564  [arte, geografia]   \n",
       "\n",
       "             datetime  \n",
       "0 2001-09-14 10:19:28  \n",
       "1 2002-12-10 00:52:22  \n",
       "2 2003-12-11 21:49:35  \n",
       "3 2004-01-02 13:49:45  \n",
       "4 2004-06-27 21:40:38  \n",
       "5 2004-06-30 06:05:53  \n",
       "6 2004-06-30 06:06:08  \n",
       "7 2004-06-30 18:52:49  \n",
       "8 2004-07-29 22:11:39  \n",
       "9 2004-07-29 22:52:44  "
      ]
     },
     "execution_count": 45,
     "metadata": {},
     "output_type": "execute_result"
    }
   ],
   "source": [
    "data_it.head(10)"
   ]
  },
  {
   "cell_type": "code",
   "execution_count": 46,
   "id": "0d711ea4-fcbb-4b47-979a-87e06b992ace",
   "metadata": {
    "tags": []
   },
   "outputs": [],
   "source": [
    "data_it.to_pickle('converted/df_it')"
   ]
  },
  {
   "cell_type": "code",
   "execution_count": 48,
   "id": "0c86e085-f522-4634-acd3-b332ae363ece",
   "metadata": {
    "tags": []
   },
   "outputs": [
    {
     "name": "stdout",
     "output_type": "stream",
     "text": [
      "IT unique users: 97162\n",
      "IT users by category:\n"
     ]
    },
    {
     "data": {
      "text/plain": [
       "categories\n",
       "arte          53885\n",
       "deporte       21048\n",
       "derecho       27933\n",
       "eventos       52503\n",
       "filosofia     24890\n",
       "geografia     45730\n",
       "historia      38546\n",
       "juegos        17967\n",
       "matematica     8641\n",
       "naturaleza    31976\n",
       "politica      30482\n",
       "religion      28233\n",
       "salud         28341\n",
       "Name: user, dtype: int64"
      ]
     },
     "execution_count": 48,
     "metadata": {},
     "output_type": "execute_result"
    }
   ],
   "source": [
    "unique_users_it = data_it['user'].nunique()\n",
    "print(\"IT unique users:\", unique_users_it)\n",
    "dfit_exploded = data_it.explode('categories')\n",
    "users_per_category_it = dfit_exploded.groupby('categories')['user'].nunique()\n",
    "print(\"IT users by category:\")\n",
    "users_per_category_it"
   ]
  },
  {
   "cell_type": "markdown",
   "id": "bb2a3ff9-29b5-4bdd-9ac8-131d7ed0a3e9",
   "metadata": {},
   "source": [
    "## Processing JA Data"
   ]
  },
  {
   "cell_type": "code",
   "execution_count": 49,
   "id": "beee2197-6dd4-4fa8-a278-cc59e2adafb7",
   "metadata": {
    "tags": []
   },
   "outputs": [],
   "source": [
    "file_path = 'WPData/ja_wp.txt'\n",
    "replace_in_file_comma_spaces(file_path)"
   ]
  },
  {
   "cell_type": "code",
   "execution_count": 50,
   "id": "4cabdc74-087f-4e86-95d9-4aaf737ee0ad",
   "metadata": {
    "tags": []
   },
   "outputs": [],
   "source": [
    "data_ja=load_and_prepare_data('WPData/ja_wp.txt')\n",
    "import json\n",
    "\n",
    "data_ja['categories'] = data_ja['categories'].apply(json.loads)"
   ]
  },
  {
   "cell_type": "code",
   "execution_count": 51,
   "id": "c929c765-735b-4578-b438-8f32247187fc",
   "metadata": {
    "tags": []
   },
   "outputs": [
    {
     "data": {
      "text/html": [
       "<div>\n",
       "<style scoped>\n",
       "    .dataframe tbody tr th:only-of-type {\n",
       "        vertical-align: middle;\n",
       "    }\n",
       "\n",
       "    .dataframe tbody tr th {\n",
       "        vertical-align: top;\n",
       "    }\n",
       "\n",
       "    .dataframe thead th {\n",
       "        text-align: right;\n",
       "    }\n",
       "</style>\n",
       "<table border=\"1\" class=\"dataframe\">\n",
       "  <thead>\n",
       "    <tr style=\"text-align: right;\">\n",
       "      <th></th>\n",
       "      <th>title</th>\n",
       "      <th>user</th>\n",
       "      <th>timestamp</th>\n",
       "      <th>categories</th>\n",
       "      <th>datetime</th>\n",
       "    </tr>\n",
       "  </thead>\n",
       "  <tbody>\n",
       "    <tr>\n",
       "      <th>0</th>\n",
       "      <td>アンパサンド</td>\n",
       "      <td>suisui</td>\n",
       "      <td>1092369109</td>\n",
       "      <td>[art, history, nature]</td>\n",
       "      <td>2004-08-13 03:51:49</td>\n",
       "    </tr>\n",
       "    <tr>\n",
       "      <th>1</th>\n",
       "      <td>アンパサンド</td>\n",
       "      <td>suisui</td>\n",
       "      <td>1093021692</td>\n",
       "      <td>[art, history, nature]</td>\n",
       "      <td>2004-08-20 17:08:12</td>\n",
       "    </tr>\n",
       "    <tr>\n",
       "      <th>2</th>\n",
       "      <td>アンパサンド</td>\n",
       "      <td>kzhr</td>\n",
       "      <td>1090561889</td>\n",
       "      <td>[art, history, nature]</td>\n",
       "      <td>2004-07-23 05:51:29</td>\n",
       "    </tr>\n",
       "    <tr>\n",
       "      <th>3</th>\n",
       "      <td>アンパサンド</td>\n",
       "      <td>michey.m</td>\n",
       "      <td>1070463995</td>\n",
       "      <td>[art, history, nature]</td>\n",
       "      <td>2003-12-03 15:06:35</td>\n",
       "    </tr>\n",
       "    <tr>\n",
       "      <th>4</th>\n",
       "      <td>アンパサンド</td>\n",
       "      <td>っ</td>\n",
       "      <td>1087950080</td>\n",
       "      <td>[art, history, nature]</td>\n",
       "      <td>2004-06-23 00:21:20</td>\n",
       "    </tr>\n",
       "    <tr>\n",
       "      <th>5</th>\n",
       "      <td>アンパサンド</td>\n",
       "      <td>っ</td>\n",
       "      <td>1088001066</td>\n",
       "      <td>[art, history, nature]</td>\n",
       "      <td>2004-06-23 14:31:06</td>\n",
       "    </tr>\n",
       "    <tr>\n",
       "      <th>6</th>\n",
       "      <td>アンパサンド</td>\n",
       "      <td>っ</td>\n",
       "      <td>1090642718</td>\n",
       "      <td>[art, history, nature]</td>\n",
       "      <td>2004-07-24 04:18:38</td>\n",
       "    </tr>\n",
       "    <tr>\n",
       "      <th>7</th>\n",
       "      <td>アンパサンド</td>\n",
       "      <td>ndr</td>\n",
       "      <td>1121916254</td>\n",
       "      <td>[art, history, nature]</td>\n",
       "      <td>2005-07-21 03:24:14</td>\n",
       "    </tr>\n",
       "    <tr>\n",
       "      <th>8</th>\n",
       "      <td>アンパサンド</td>\n",
       "      <td>goki</td>\n",
       "      <td>1160972422</td>\n",
       "      <td>[art, history, nature]</td>\n",
       "      <td>2006-10-16 04:20:22</td>\n",
       "    </tr>\n",
       "    <tr>\n",
       "      <th>9</th>\n",
       "      <td>アンパサンド</td>\n",
       "      <td>朝彦</td>\n",
       "      <td>1087528715</td>\n",
       "      <td>[art, history, nature]</td>\n",
       "      <td>2004-06-18 03:18:35</td>\n",
       "    </tr>\n",
       "  </tbody>\n",
       "</table>\n",
       "</div>"
      ],
      "text/plain": [
       "    title      user   timestamp              categories            datetime\n",
       "0  アンパサンド    suisui  1092369109  [art, history, nature] 2004-08-13 03:51:49\n",
       "1  アンパサンド    suisui  1093021692  [art, history, nature] 2004-08-20 17:08:12\n",
       "2  アンパサンド      kzhr  1090561889  [art, history, nature] 2004-07-23 05:51:29\n",
       "3  アンパサンド  michey.m  1070463995  [art, history, nature] 2003-12-03 15:06:35\n",
       "4  アンパサンド         っ  1087950080  [art, history, nature] 2004-06-23 00:21:20\n",
       "5  アンパサンド         っ  1088001066  [art, history, nature] 2004-06-23 14:31:06\n",
       "6  アンパサンド         っ  1090642718  [art, history, nature] 2004-07-24 04:18:38\n",
       "7  アンパサンド       ndr  1121916254  [art, history, nature] 2005-07-21 03:24:14\n",
       "8  アンパサンド      goki  1160972422  [art, history, nature] 2006-10-16 04:20:22\n",
       "9  アンパサンド        朝彦  1087528715  [art, history, nature] 2004-06-18 03:18:35"
      ]
     },
     "execution_count": 51,
     "metadata": {},
     "output_type": "execute_result"
    }
   ],
   "source": [
    "data_ja.head(10)"
   ]
  },
  {
   "cell_type": "code",
   "execution_count": 52,
   "id": "e82a8251-5b2d-4e8a-957e-6e3f43af9bc2",
   "metadata": {
    "tags": []
   },
   "outputs": [],
   "source": [
    "data_ja.to_pickle('converted/df_ja')"
   ]
  },
  {
   "cell_type": "code",
   "execution_count": 54,
   "id": "bc16a869-8adb-4d5b-afa4-8d7f9d4c1370",
   "metadata": {
    "tags": []
   },
   "outputs": [
    {
     "name": "stdout",
     "output_type": "stream",
     "text": [
      "JA unique users: 126657\n",
      "JA users by category:\n"
     ]
    },
    {
     "data": {
      "text/plain": [
       "categories\n",
       "art             85810\n",
       "events          20072\n",
       "foods           14787\n",
       "games           28442\n",
       "geography       79168\n",
       "health          45394\n",
       "history        103004\n",
       "mathematics     18879\n",
       "nature          86584\n",
       "philosophy      44951\n",
       "politics        66756\n",
       "religion        29220\n",
       "rights          31483\n",
       "sports          34954\n",
       "Name: user, dtype: int64"
      ]
     },
     "execution_count": 54,
     "metadata": {},
     "output_type": "execute_result"
    }
   ],
   "source": [
    "unique_users_ja = data_ja['user'].nunique()\n",
    "print(\"JA unique users:\", unique_users_ja)\n",
    "dfja_exploded = data_ja.explode('categories')\n",
    "users_per_category_ja = dfja_exploded.groupby('categories')['user'].nunique()\n",
    "print(\"JA users by category:\")\n",
    "users_per_category_ja"
   ]
  },
  {
   "cell_type": "markdown",
   "id": "71f922ee-68ec-4250-8101-3a01e4a194e7",
   "metadata": {},
   "source": [
    "## Processing PT Data"
   ]
  },
  {
   "cell_type": "code",
   "execution_count": 55,
   "id": "69d9443e-efd9-45d4-97f1-6eee90c4a2ef",
   "metadata": {
    "tags": []
   },
   "outputs": [],
   "source": [
    "file_path = 'WPData/pt_wiki.txt'\n",
    "replace_in_file_comma_spaces(file_path)"
   ]
  },
  {
   "cell_type": "code",
   "execution_count": 56,
   "id": "7bb6dac9-6534-4b07-bac6-606b9a365c86",
   "metadata": {
    "tags": []
   },
   "outputs": [
    {
     "ename": "ValueError",
     "evalue": "non convertible value ^^^_2011-10-25T04:34:47Z with the unit 's', at position 0",
     "output_type": "error",
     "traceback": [
      "\u001b[0;31m---------------------------------------------------------------------------\u001b[0m",
      "\u001b[0;31mValueError\u001b[0m                                Traceback (most recent call last)",
      "File \u001b[0;32m~/anaconda3/lib/python3.11/site-packages/pandas/_libs/tslib.pyx:304\u001b[0m, in \u001b[0;36mpandas._libs.tslib.array_with_unit_to_datetime\u001b[0;34m()\u001b[0m\n",
      "\u001b[0;31mValueError\u001b[0m: could not convert string to float: '^^^_2011-10-25T04:34:47Z'",
      "\nDuring handling of the above exception, another exception occurred:\n",
      "\u001b[0;31mValueError\u001b[0m                                Traceback (most recent call last)",
      "Cell \u001b[0;32mIn[56], line 1\u001b[0m\n\u001b[0;32m----> 1\u001b[0m data_pt\u001b[38;5;241m=\u001b[39mload_and_prepare_data(\u001b[38;5;124m'\u001b[39m\u001b[38;5;124mWPData/pt_wiki.txt\u001b[39m\u001b[38;5;124m'\u001b[39m)\n\u001b[1;32m      2\u001b[0m \u001b[38;5;28;01mimport\u001b[39;00m \u001b[38;5;21;01mjson\u001b[39;00m\n\u001b[1;32m      4\u001b[0m data_pt[\u001b[38;5;124m'\u001b[39m\u001b[38;5;124mcategories\u001b[39m\u001b[38;5;124m'\u001b[39m] \u001b[38;5;241m=\u001b[39m data_pt[\u001b[38;5;124m'\u001b[39m\u001b[38;5;124mcategories\u001b[39m\u001b[38;5;124m'\u001b[39m]\u001b[38;5;241m.\u001b[39mapply(json\u001b[38;5;241m.\u001b[39mloads)\n",
      "Cell \u001b[0;32mIn[7], line 9\u001b[0m, in \u001b[0;36mload_and_prepare_data\u001b[0;34m(file_path)\u001b[0m\n\u001b[1;32m      6\u001b[0m data \u001b[38;5;241m=\u001b[39m pd\u001b[38;5;241m.\u001b[39mread_csv(file_path, sep\u001b[38;5;241m=\u001b[39m\u001b[38;5;124m\"\u001b[39m\u001b[38;5;124m \u001b[39m\u001b[38;5;124m\"\u001b[39m, header\u001b[38;5;241m=\u001b[39m\u001b[38;5;28;01mNone\u001b[39;00m, names\u001b[38;5;241m=\u001b[39m[\u001b[38;5;124m\"\u001b[39m\u001b[38;5;124mtitle\u001b[39m\u001b[38;5;124m\"\u001b[39m, \u001b[38;5;124m\"\u001b[39m\u001b[38;5;124muser\u001b[39m\u001b[38;5;124m\"\u001b[39m, \u001b[38;5;124m\"\u001b[39m\u001b[38;5;124mtimestamp\u001b[39m\u001b[38;5;124m\"\u001b[39m, \u001b[38;5;124m\"\u001b[39m\u001b[38;5;124mcategories\u001b[39m\u001b[38;5;124m\"\u001b[39m])\n\u001b[1;32m      8\u001b[0m \u001b[38;5;66;03m# Convert UNIX timestamps to human-readable datetime\u001b[39;00m\n\u001b[0;32m----> 9\u001b[0m data[\u001b[38;5;124m'\u001b[39m\u001b[38;5;124mdatetime\u001b[39m\u001b[38;5;124m'\u001b[39m] \u001b[38;5;241m=\u001b[39m pd\u001b[38;5;241m.\u001b[39mto_datetime(data[\u001b[38;5;124m'\u001b[39m\u001b[38;5;124mtimestamp\u001b[39m\u001b[38;5;124m'\u001b[39m], unit\u001b[38;5;241m=\u001b[39m\u001b[38;5;124m'\u001b[39m\u001b[38;5;124ms\u001b[39m\u001b[38;5;124m'\u001b[39m)\n\u001b[1;32m     11\u001b[0m \u001b[38;5;66;03m#Convert to JSON format to faster implementation\u001b[39;00m\n\u001b[1;32m     12\u001b[0m data[\u001b[38;5;124m'\u001b[39m\u001b[38;5;124mcategories\u001b[39m\u001b[38;5;124m'\u001b[39m] \u001b[38;5;241m=\u001b[39m data[\u001b[38;5;124m'\u001b[39m\u001b[38;5;124mcategories\u001b[39m\u001b[38;5;124m'\u001b[39m]\u001b[38;5;241m.\u001b[39mstr\u001b[38;5;241m.\u001b[39mreplace(\u001b[38;5;124m\"\u001b[39m\u001b[38;5;124m'\u001b[39m\u001b[38;5;124m\"\u001b[39m, \u001b[38;5;124m'\u001b[39m\u001b[38;5;124m\"\u001b[39m\u001b[38;5;124m'\u001b[39m)\n",
      "File \u001b[0;32m~/anaconda3/lib/python3.11/site-packages/pandas/core/tools/datetimes.py:1050\u001b[0m, in \u001b[0;36mto_datetime\u001b[0;34m(arg, errors, dayfirst, yearfirst, utc, format, exact, unit, infer_datetime_format, origin, cache)\u001b[0m\n\u001b[1;32m   1048\u001b[0m         result \u001b[38;5;241m=\u001b[39m arg\u001b[38;5;241m.\u001b[39mmap(cache_array)\n\u001b[1;32m   1049\u001b[0m     \u001b[38;5;28;01melse\u001b[39;00m:\n\u001b[0;32m-> 1050\u001b[0m         values \u001b[38;5;241m=\u001b[39m convert_listlike(arg\u001b[38;5;241m.\u001b[39m_values, \u001b[38;5;28mformat\u001b[39m)\n\u001b[1;32m   1051\u001b[0m         result \u001b[38;5;241m=\u001b[39m arg\u001b[38;5;241m.\u001b[39m_constructor(values, index\u001b[38;5;241m=\u001b[39marg\u001b[38;5;241m.\u001b[39mindex, name\u001b[38;5;241m=\u001b[39marg\u001b[38;5;241m.\u001b[39mname)\n\u001b[1;32m   1052\u001b[0m \u001b[38;5;28;01melif\u001b[39;00m \u001b[38;5;28misinstance\u001b[39m(arg, (ABCDataFrame, abc\u001b[38;5;241m.\u001b[39mMutableMapping)):\n",
      "File \u001b[0;32m~/anaconda3/lib/python3.11/site-packages/pandas/core/tools/datetimes.py:427\u001b[0m, in \u001b[0;36m_convert_listlike_datetimes\u001b[0;34m(arg, format, name, utc, unit, errors, dayfirst, yearfirst, exact)\u001b[0m\n\u001b[1;32m    425\u001b[0m     \u001b[38;5;28;01mif\u001b[39;00m \u001b[38;5;28mformat\u001b[39m \u001b[38;5;129;01mis\u001b[39;00m \u001b[38;5;129;01mnot\u001b[39;00m \u001b[38;5;28;01mNone\u001b[39;00m:\n\u001b[1;32m    426\u001b[0m         \u001b[38;5;28;01mraise\u001b[39;00m \u001b[38;5;167;01mValueError\u001b[39;00m(\u001b[38;5;124m\"\u001b[39m\u001b[38;5;124mcannot specify both format and unit\u001b[39m\u001b[38;5;124m\"\u001b[39m)\n\u001b[0;32m--> 427\u001b[0m     \u001b[38;5;28;01mreturn\u001b[39;00m _to_datetime_with_unit(arg, unit, name, utc, errors)\n\u001b[1;32m    428\u001b[0m \u001b[38;5;28;01melif\u001b[39;00m \u001b[38;5;28mgetattr\u001b[39m(arg, \u001b[38;5;124m\"\u001b[39m\u001b[38;5;124mndim\u001b[39m\u001b[38;5;124m\"\u001b[39m, \u001b[38;5;241m1\u001b[39m) \u001b[38;5;241m>\u001b[39m \u001b[38;5;241m1\u001b[39m:\n\u001b[1;32m    429\u001b[0m     \u001b[38;5;28;01mraise\u001b[39;00m \u001b[38;5;167;01mTypeError\u001b[39;00m(\n\u001b[1;32m    430\u001b[0m         \u001b[38;5;124m\"\u001b[39m\u001b[38;5;124marg must be a string, datetime, list, tuple, 1-d array, or Series\u001b[39m\u001b[38;5;124m\"\u001b[39m\n\u001b[1;32m    431\u001b[0m     )\n",
      "File \u001b[0;32m~/anaconda3/lib/python3.11/site-packages/pandas/core/tools/datetimes.py:539\u001b[0m, in \u001b[0;36m_to_datetime_with_unit\u001b[0;34m(arg, unit, name, utc, errors)\u001b[0m\n\u001b[1;32m    537\u001b[0m     \u001b[38;5;28;01melse\u001b[39;00m:\n\u001b[1;32m    538\u001b[0m         arg \u001b[38;5;241m=\u001b[39m arg\u001b[38;5;241m.\u001b[39mastype(\u001b[38;5;28mobject\u001b[39m, copy\u001b[38;5;241m=\u001b[39m\u001b[38;5;28;01mFalse\u001b[39;00m)\n\u001b[0;32m--> 539\u001b[0m         arr, tz_parsed \u001b[38;5;241m=\u001b[39m tslib\u001b[38;5;241m.\u001b[39marray_with_unit_to_datetime(arg, unit, errors\u001b[38;5;241m=\u001b[39merrors)\n\u001b[1;32m    541\u001b[0m \u001b[38;5;28;01mif\u001b[39;00m errors \u001b[38;5;241m==\u001b[39m \u001b[38;5;124m\"\u001b[39m\u001b[38;5;124mignore\u001b[39m\u001b[38;5;124m\"\u001b[39m:\n\u001b[1;32m    542\u001b[0m     \u001b[38;5;66;03m# Index constructor _may_ infer to DatetimeIndex\u001b[39;00m\n\u001b[1;32m    543\u001b[0m     result \u001b[38;5;241m=\u001b[39m Index\u001b[38;5;241m.\u001b[39m_with_infer(arr, name\u001b[38;5;241m=\u001b[39mname)\n",
      "File \u001b[0;32m~/anaconda3/lib/python3.11/site-packages/pandas/_libs/tslib.pyx:332\u001b[0m, in \u001b[0;36mpandas._libs.tslib.array_with_unit_to_datetime\u001b[0;34m()\u001b[0m\n",
      "File \u001b[0;32m~/anaconda3/lib/python3.11/site-packages/pandas/_libs/tslib.pyx:306\u001b[0m, in \u001b[0;36mpandas._libs.tslib.array_with_unit_to_datetime\u001b[0;34m()\u001b[0m\n",
      "\u001b[0;31mValueError\u001b[0m: non convertible value ^^^_2011-10-25T04:34:47Z with the unit 's', at position 0"
     ]
    }
   ],
   "source": [
    "data_pt=load_and_prepare_data('WPData/pt_wiki.txt')\n",
    "import json\n",
    "\n",
    "data_pt['categories'] = data_pt['categories'].apply(json.loads)"
   ]
  },
  {
   "cell_type": "code",
   "execution_count": 51,
   "id": "cded7edc-905b-4002-8722-94018b2e7f4b",
   "metadata": {
    "tags": []
   },
   "outputs": [
    {
     "data": {
      "text/html": [
       "<div>\n",
       "<style scoped>\n",
       "    .dataframe tbody tr th:only-of-type {\n",
       "        vertical-align: middle;\n",
       "    }\n",
       "\n",
       "    .dataframe tbody tr th {\n",
       "        vertical-align: top;\n",
       "    }\n",
       "\n",
       "    .dataframe thead th {\n",
       "        text-align: right;\n",
       "    }\n",
       "</style>\n",
       "<table border=\"1\" class=\"dataframe\">\n",
       "  <thead>\n",
       "    <tr style=\"text-align: right;\">\n",
       "      <th></th>\n",
       "      <th>title</th>\n",
       "      <th>user</th>\n",
       "      <th>timestamp</th>\n",
       "      <th>categories</th>\n",
       "      <th>datetime</th>\n",
       "    </tr>\n",
       "  </thead>\n",
       "  <tbody>\n",
       "    <tr>\n",
       "      <th>0</th>\n",
       "      <td>アンパサンド</td>\n",
       "      <td>suisui</td>\n",
       "      <td>1092369109</td>\n",
       "      <td>[art, history, nature]</td>\n",
       "      <td>2004-08-13 03:51:49</td>\n",
       "    </tr>\n",
       "    <tr>\n",
       "      <th>1</th>\n",
       "      <td>アンパサンド</td>\n",
       "      <td>suisui</td>\n",
       "      <td>1093021692</td>\n",
       "      <td>[art, history, nature]</td>\n",
       "      <td>2004-08-20 17:08:12</td>\n",
       "    </tr>\n",
       "    <tr>\n",
       "      <th>2</th>\n",
       "      <td>アンパサンド</td>\n",
       "      <td>kzhr</td>\n",
       "      <td>1090561889</td>\n",
       "      <td>[art, history, nature]</td>\n",
       "      <td>2004-07-23 05:51:29</td>\n",
       "    </tr>\n",
       "    <tr>\n",
       "      <th>3</th>\n",
       "      <td>アンパサンド</td>\n",
       "      <td>michey.m</td>\n",
       "      <td>1070463995</td>\n",
       "      <td>[art, history, nature]</td>\n",
       "      <td>2003-12-03 15:06:35</td>\n",
       "    </tr>\n",
       "    <tr>\n",
       "      <th>4</th>\n",
       "      <td>アンパサンド</td>\n",
       "      <td>っ</td>\n",
       "      <td>1087950080</td>\n",
       "      <td>[art, history, nature]</td>\n",
       "      <td>2004-06-23 00:21:20</td>\n",
       "    </tr>\n",
       "    <tr>\n",
       "      <th>5</th>\n",
       "      <td>アンパサンド</td>\n",
       "      <td>っ</td>\n",
       "      <td>1088001066</td>\n",
       "      <td>[art, history, nature]</td>\n",
       "      <td>2004-06-23 14:31:06</td>\n",
       "    </tr>\n",
       "    <tr>\n",
       "      <th>6</th>\n",
       "      <td>アンパサンド</td>\n",
       "      <td>っ</td>\n",
       "      <td>1090642718</td>\n",
       "      <td>[art, history, nature]</td>\n",
       "      <td>2004-07-24 04:18:38</td>\n",
       "    </tr>\n",
       "    <tr>\n",
       "      <th>7</th>\n",
       "      <td>アンパサンド</td>\n",
       "      <td>ndr</td>\n",
       "      <td>1121916254</td>\n",
       "      <td>[art, history, nature]</td>\n",
       "      <td>2005-07-21 03:24:14</td>\n",
       "    </tr>\n",
       "    <tr>\n",
       "      <th>8</th>\n",
       "      <td>アンパサンド</td>\n",
       "      <td>goki</td>\n",
       "      <td>1160972422</td>\n",
       "      <td>[art, history, nature]</td>\n",
       "      <td>2006-10-16 04:20:22</td>\n",
       "    </tr>\n",
       "    <tr>\n",
       "      <th>9</th>\n",
       "      <td>アンパサンド</td>\n",
       "      <td>朝彦</td>\n",
       "      <td>1087528715</td>\n",
       "      <td>[art, history, nature]</td>\n",
       "      <td>2004-06-18 03:18:35</td>\n",
       "    </tr>\n",
       "  </tbody>\n",
       "</table>\n",
       "</div>"
      ],
      "text/plain": [
       "    title      user   timestamp              categories            datetime\n",
       "0  アンパサンド    suisui  1092369109  [art, history, nature] 2004-08-13 03:51:49\n",
       "1  アンパサンド    suisui  1093021692  [art, history, nature] 2004-08-20 17:08:12\n",
       "2  アンパサンド      kzhr  1090561889  [art, history, nature] 2004-07-23 05:51:29\n",
       "3  アンパサンド  michey.m  1070463995  [art, history, nature] 2003-12-03 15:06:35\n",
       "4  アンパサンド         っ  1087950080  [art, history, nature] 2004-06-23 00:21:20\n",
       "5  アンパサンド         っ  1088001066  [art, history, nature] 2004-06-23 14:31:06\n",
       "6  アンパサンド         っ  1090642718  [art, history, nature] 2004-07-24 04:18:38\n",
       "7  アンパサンド       ndr  1121916254  [art, history, nature] 2005-07-21 03:24:14\n",
       "8  アンパサンド      goki  1160972422  [art, history, nature] 2006-10-16 04:20:22\n",
       "9  アンパサンド        朝彦  1087528715  [art, history, nature] 2004-06-18 03:18:35"
      ]
     },
     "execution_count": 51,
     "metadata": {},
     "output_type": "execute_result"
    }
   ],
   "source": [
    "data_pt.head(10)"
   ]
  },
  {
   "cell_type": "code",
   "execution_count": 52,
   "id": "bc956f21-699e-4e07-b110-8e6c2c71b671",
   "metadata": {
    "tags": []
   },
   "outputs": [],
   "source": [
    "data_pt.to_pickle('converted/df_pt')"
   ]
  },
  {
   "cell_type": "code",
   "execution_count": 54,
   "id": "6b89ac13-23db-4d41-8bb0-9bae902c3e91",
   "metadata": {
    "tags": []
   },
   "outputs": [
    {
     "name": "stdout",
     "output_type": "stream",
     "text": [
      "JA unique users: 126657\n",
      "JA users by category:\n"
     ]
    },
    {
     "data": {
      "text/plain": [
       "categories\n",
       "art             85810\n",
       "events          20072\n",
       "foods           14787\n",
       "games           28442\n",
       "geography       79168\n",
       "health          45394\n",
       "history        103004\n",
       "mathematics     18879\n",
       "nature          86584\n",
       "philosophy      44951\n",
       "politics        66756\n",
       "religion        29220\n",
       "rights          31483\n",
       "sports          34954\n",
       "Name: user, dtype: int64"
      ]
     },
     "execution_count": 54,
     "metadata": {},
     "output_type": "execute_result"
    }
   ],
   "source": [
    "unique_users_pt = data_ja['user'].nunique()\n",
    "print(\"PT unique users:\", unique_users_pt)\n",
    "dfpt_exploded = data_pt.explode('categories')\n",
    "users_per_category_pt = dfpt_exploded.groupby('categories')['user'].nunique()\n",
    "print(\"PT users by category:\")\n",
    "users_per_category_pt"
   ]
  },
  {
   "cell_type": "markdown",
   "id": "c8efc5db-c771-4639-9578-175d580551d5",
   "metadata": {},
   "source": [
    "## Processing RU Data"
   ]
  },
  {
   "cell_type": "code",
   "execution_count": 57,
   "id": "dc535f97-ce28-458a-b111-2d486cf8579f",
   "metadata": {
    "tags": []
   },
   "outputs": [],
   "source": [
    "file_path = 'WPData/ru_wp.txt'\n",
    "replace_in_file_comma_spaces(file_path)"
   ]
  },
  {
   "cell_type": "code",
   "execution_count": 58,
   "id": "ebd0a52f-a656-4c2b-9e16-2b076e15cfcc",
   "metadata": {
    "tags": []
   },
   "outputs": [],
   "source": [
    "data_ru=load_and_prepare_data('WPData/ru_wp.txt')\n",
    "import json\n",
    "\n",
    "data_ru['categories'] = data_ru['categories'].apply(json.loads)"
   ]
  },
  {
   "cell_type": "code",
   "execution_count": 60,
   "id": "aa7d8e62-5ec0-48bb-aa42-a46284ac7de4",
   "metadata": {
    "tags": []
   },
   "outputs": [
    {
     "data": {
      "text/html": [
       "<div>\n",
       "<style scoped>\n",
       "    .dataframe tbody tr th:only-of-type {\n",
       "        vertical-align: middle;\n",
       "    }\n",
       "\n",
       "    .dataframe tbody tr th {\n",
       "        vertical-align: top;\n",
       "    }\n",
       "\n",
       "    .dataframe thead th {\n",
       "        text-align: right;\n",
       "    }\n",
       "</style>\n",
       "<table border=\"1\" class=\"dataframe\">\n",
       "  <thead>\n",
       "    <tr style=\"text-align: right;\">\n",
       "      <th></th>\n",
       "      <th>title</th>\n",
       "      <th>user</th>\n",
       "      <th>timestamp</th>\n",
       "      <th>categories</th>\n",
       "      <th>datetime</th>\n",
       "    </tr>\n",
       "  </thead>\n",
       "  <tbody>\n",
       "    <tr>\n",
       "      <th>4779115</th>\n",
       "      <td>Восток_(клуб_песни)</td>\n",
       "      <td>myke</td>\n",
       "      <td>1227284771</td>\n",
       "      <td>[art]</td>\n",
       "      <td>2008-11-21 16:26:11</td>\n",
       "    </tr>\n",
       "    <tr>\n",
       "      <th>646495</th>\n",
       "      <td>Иприт</td>\n",
       "      <td>deerhunter</td>\n",
       "      <td>1193162117</td>\n",
       "      <td>[nature]</td>\n",
       "      <td>2007-10-23 17:55:17</td>\n",
       "    </tr>\n",
       "    <tr>\n",
       "      <th>3962033</th>\n",
       "      <td>Институт_рабочего_контроля</td>\n",
       "      <td>lehtman</td>\n",
       "      <td>1201387940</td>\n",
       "      <td>[history, politics]</td>\n",
       "      <td>2008-01-26 22:52:20</td>\n",
       "    </tr>\n",
       "    <tr>\n",
       "      <th>1529668</th>\n",
       "      <td>sony_mobile</td>\n",
       "      <td>lite</td>\n",
       "      <td>1188462859</td>\n",
       "      <td>[history]</td>\n",
       "      <td>2007-08-30 08:34:19</td>\n",
       "    </tr>\n",
       "    <tr>\n",
       "      <th>4418649</th>\n",
       "      <td>Ленинский_сквер_(Липецк)</td>\n",
       "      <td>dsropen</td>\n",
       "      <td>1214923396</td>\n",
       "      <td>[geography, nature]</td>\n",
       "      <td>2008-07-01 14:43:16</td>\n",
       "    </tr>\n",
       "    <tr>\n",
       "      <th>1482766</th>\n",
       "      <td>Монстр_в_коробке</td>\n",
       "      <td>kr</td>\n",
       "      <td>1161153940</td>\n",
       "      <td>[art, nature]</td>\n",
       "      <td>2006-10-18 06:45:40</td>\n",
       "    </tr>\n",
       "    <tr>\n",
       "      <th>3613315</th>\n",
       "      <td>Талыш-Муганская_Автономная_Республика</td>\n",
       "      <td>grandmaster</td>\n",
       "      <td>1226473369</td>\n",
       "      <td>[geography, history, politics]</td>\n",
       "      <td>2008-11-12 07:02:49</td>\n",
       "    </tr>\n",
       "    <tr>\n",
       "      <th>1188510</th>\n",
       "      <td>Муром</td>\n",
       "      <td>maximaximax</td>\n",
       "      <td>1125510758</td>\n",
       "      <td>[geography, history]</td>\n",
       "      <td>2005-08-31 17:52:38</td>\n",
       "    </tr>\n",
       "    <tr>\n",
       "      <th>2542972</th>\n",
       "      <td>Мэн-цзы</td>\n",
       "      <td>unclemartin</td>\n",
       "      <td>1258460623</td>\n",
       "      <td>[history, nature, philosophy, religion]</td>\n",
       "      <td>2009-11-17 12:23:43</td>\n",
       "    </tr>\n",
       "    <tr>\n",
       "      <th>534472</th>\n",
       "      <td>Киноискусство</td>\n",
       "      <td>avb</td>\n",
       "      <td>1249644547</td>\n",
       "      <td>[art]</td>\n",
       "      <td>2009-08-07 11:29:07</td>\n",
       "    </tr>\n",
       "  </tbody>\n",
       "</table>\n",
       "</div>"
      ],
      "text/plain": [
       "                                         title         user   timestamp  \\\n",
       "4779115                    Восток_(клуб_песни)         myke  1227284771   \n",
       "646495                                   Иприт   deerhunter  1193162117   \n",
       "3962033             Институт_рабочего_контроля      lehtman  1201387940   \n",
       "1529668                            sony_mobile         lite  1188462859   \n",
       "4418649               Ленинский_сквер_(Липецк)      dsropen  1214923396   \n",
       "1482766                       Монстр_в_коробке           kr  1161153940   \n",
       "3613315  Талыш-Муганская_Автономная_Республика  grandmaster  1226473369   \n",
       "1188510                                  Муром  maximaximax  1125510758   \n",
       "2542972                                Мэн-цзы  unclemartin  1258460623   \n",
       "534472                           Киноискусство          avb  1249644547   \n",
       "\n",
       "                                      categories            datetime  \n",
       "4779115                                    [art] 2008-11-21 16:26:11  \n",
       "646495                                  [nature] 2007-10-23 17:55:17  \n",
       "3962033                      [history, politics] 2008-01-26 22:52:20  \n",
       "1529668                                [history] 2007-08-30 08:34:19  \n",
       "4418649                      [geography, nature] 2008-07-01 14:43:16  \n",
       "1482766                            [art, nature] 2006-10-18 06:45:40  \n",
       "3613315           [geography, history, politics] 2008-11-12 07:02:49  \n",
       "1188510                     [geography, history] 2005-08-31 17:52:38  \n",
       "2542972  [history, nature, philosophy, religion] 2009-11-17 12:23:43  \n",
       "534472                                     [art] 2009-08-07 11:29:07  "
      ]
     },
     "execution_count": 60,
     "metadata": {},
     "output_type": "execute_result"
    }
   ],
   "source": [
    "data_ru.sample(10)"
   ]
  },
  {
   "cell_type": "code",
   "execution_count": 61,
   "id": "a525cba0-efd0-4858-9d58-f103c6148774",
   "metadata": {
    "tags": []
   },
   "outputs": [],
   "source": [
    "data_ru.to_pickle('converted/df_ru')"
   ]
  },
  {
   "cell_type": "code",
   "execution_count": 62,
   "id": "3ca6d90d-4def-457b-b0c4-53e9e15358a4",
   "metadata": {
    "tags": []
   },
   "outputs": [
    {
     "name": "stdout",
     "output_type": "stream",
     "text": [
      "RU unique users: 76066\n",
      "RU users by category:\n"
     ]
    },
    {
     "data": {
      "text/plain": [
       "categories\n",
       "art            41694\n",
       "events         23696\n",
       "foods           6088\n",
       "games          13838\n",
       "geography      30652\n",
       "health         13937\n",
       "history        41006\n",
       "mathematics     9260\n",
       "nature         51426\n",
       "philosophy     16170\n",
       "politics       24119\n",
       "religion       18301\n",
       "rights         17644\n",
       "sports         14963\n",
       "Name: user, dtype: int64"
      ]
     },
     "execution_count": 62,
     "metadata": {},
     "output_type": "execute_result"
    }
   ],
   "source": [
    "unique_users_ru = data_ru['user'].nunique()\n",
    "print(\"RU unique users:\", unique_users_ru)\n",
    "dfru_exploded = data_ru.explode('categories')\n",
    "users_per_category_ru = dfru_exploded.groupby('categories')['user'].nunique()\n",
    "print(\"RU users by category:\")\n",
    "users_per_category_ru"
   ]
  },
  {
   "cell_type": "markdown",
   "id": "fc3630b2-7a68-4bf2-b93d-8d4a54e3dfd0",
   "metadata": {},
   "source": [
    "## Processing VI Data"
   ]
  },
  {
   "cell_type": "code",
   "execution_count": 63,
   "id": "911d5c53-7583-4cb6-be81-792931c5a5ad",
   "metadata": {
    "tags": []
   },
   "outputs": [],
   "source": [
    "file_path = 'WPData/vi_wp.txt'\n",
    "replace_in_file_comma_spaces(file_path)"
   ]
  },
  {
   "cell_type": "code",
   "execution_count": 64,
   "id": "50388e9b-9ef9-40eb-abbd-3ed0c1e634b5",
   "metadata": {
    "tags": []
   },
   "outputs": [],
   "source": [
    "data_vi=load_and_prepare_data('WPData/vi_wp.txt')\n",
    "import json\n",
    "\n",
    "data_vi['categories'] = data_vi['categories'].apply(json.loads)"
   ]
  },
  {
   "cell_type": "code",
   "execution_count": 65,
   "id": "32ebc859-4870-4049-9739-b841b85d955c",
   "metadata": {
    "tags": []
   },
   "outputs": [
    {
     "data": {
      "text/html": [
       "<div>\n",
       "<style scoped>\n",
       "    .dataframe tbody tr th:only-of-type {\n",
       "        vertical-align: middle;\n",
       "    }\n",
       "\n",
       "    .dataframe tbody tr th {\n",
       "        vertical-align: top;\n",
       "    }\n",
       "\n",
       "    .dataframe thead th {\n",
       "        text-align: right;\n",
       "    }\n",
       "</style>\n",
       "<table border=\"1\" class=\"dataframe\">\n",
       "  <thead>\n",
       "    <tr style=\"text-align: right;\">\n",
       "      <th></th>\n",
       "      <th>title</th>\n",
       "      <th>user</th>\n",
       "      <th>timestamp</th>\n",
       "      <th>categories</th>\n",
       "      <th>datetime</th>\n",
       "    </tr>\n",
       "  </thead>\n",
       "  <tbody>\n",
       "    <tr>\n",
       "      <th>592998</th>\n",
       "      <td>xử_lý_ngôn_ngữ_tự_nhiên</td>\n",
       "      <td>ditimchanly</td>\n",
       "      <td>1224777979</td>\n",
       "      <td>[health, history, mathematics, nature, philoso...</td>\n",
       "      <td>2008-10-23 16:06:19</td>\n",
       "    </tr>\n",
       "    <tr>\n",
       "      <th>21708</th>\n",
       "      <td>tản_Đà</td>\n",
       "      <td>bthanh</td>\n",
       "      <td>1268924017</td>\n",
       "      <td>[art, events, geography, history, nature, phil...</td>\n",
       "      <td>2010-03-18 14:53:37</td>\n",
       "    </tr>\n",
       "    <tr>\n",
       "      <th>392348</th>\n",
       "      <td>võ_thiếu_lâm</td>\n",
       "      <td>shaolin_kungfu</td>\n",
       "      <td>1188293247</td>\n",
       "      <td>[art, games, geography, health, nature, politi...</td>\n",
       "      <td>2007-08-28 09:27:27</td>\n",
       "    </tr>\n",
       "    <tr>\n",
       "      <th>64320</th>\n",
       "      <td>nam_tiến</td>\n",
       "      <td>nds</td>\n",
       "      <td>1200134053</td>\n",
       "      <td>[geography, history, nature, politics]</td>\n",
       "      <td>2008-01-12 10:34:13</td>\n",
       "    </tr>\n",
       "    <tr>\n",
       "      <th>33717</th>\n",
       "      <td>việt_nam_dân_chủ_cộng_hòa</td>\n",
       "      <td>y_kpia_mlo</td>\n",
       "      <td>1254591533</td>\n",
       "      <td>[art, events, geography, history, nature, phil...</td>\n",
       "      <td>2009-10-03 17:38:53</td>\n",
       "    </tr>\n",
       "    <tr>\n",
       "      <th>427409</th>\n",
       "      <td>jethro_tull_(nhà_nông_học)</td>\n",
       "      <td>genghiskhan</td>\n",
       "      <td>1189074861</td>\n",
       "      <td>[events, geography, history, nature, politics]</td>\n",
       "      <td>2007-09-06 10:34:21</td>\n",
       "    </tr>\n",
       "    <tr>\n",
       "      <th>711043</th>\n",
       "      <td>friedrich_i_của_Đế_quốc_la_mã_thần_thánh</td>\n",
       "      <td>trungda</td>\n",
       "      <td>1267955673</td>\n",
       "      <td>[events, geography, history, nature, politics,...</td>\n",
       "      <td>2010-03-07 09:54:33</td>\n",
       "    </tr>\n",
       "    <tr>\n",
       "      <th>83685</th>\n",
       "      <td>người_pà_thẻn</td>\n",
       "      <td>ttienngoc</td>\n",
       "      <td>1125816094</td>\n",
       "      <td>[geography, history, nature, philosophy, polit...</td>\n",
       "      <td>2005-09-04 06:41:34</td>\n",
       "    </tr>\n",
       "    <tr>\n",
       "      <th>609534</th>\n",
       "      <td>công_khai_thiên_hướng_tình_dục</td>\n",
       "      <td>mặt_trời_đỏ</td>\n",
       "      <td>1239311690</td>\n",
       "      <td>[health, nature, philosophy, politics]</td>\n",
       "      <td>2009-04-09 21:14:50</td>\n",
       "    </tr>\n",
       "    <tr>\n",
       "      <th>677134</th>\n",
       "      <td>fernando_verdasco</td>\n",
       "      <td>a_trát_liên_tạp</td>\n",
       "      <td>1254033806</td>\n",
       "      <td>[events, games, health, history, nature, sports]</td>\n",
       "      <td>2009-09-27 06:43:26</td>\n",
       "    </tr>\n",
       "  </tbody>\n",
       "</table>\n",
       "</div>"
      ],
      "text/plain": [
       "                                           title             user   timestamp  \\\n",
       "592998                   xử_lý_ngôn_ngữ_tự_nhiên      ditimchanly  1224777979   \n",
       "21708                                     tản_Đà           bthanh  1268924017   \n",
       "392348                              võ_thiếu_lâm   shaolin_kungfu  1188293247   \n",
       "64320                                   nam_tiến              nds  1200134053   \n",
       "33717                  việt_nam_dân_chủ_cộng_hòa       y_kpia_mlo  1254591533   \n",
       "427409                jethro_tull_(nhà_nông_học)      genghiskhan  1189074861   \n",
       "711043  friedrich_i_của_Đế_quốc_la_mã_thần_thánh          trungda  1267955673   \n",
       "83685                              người_pà_thẻn        ttienngoc  1125816094   \n",
       "609534            công_khai_thiên_hướng_tình_dục      mặt_trời_đỏ  1239311690   \n",
       "677134                         fernando_verdasco  a_trát_liên_tạp  1254033806   \n",
       "\n",
       "                                               categories            datetime  \n",
       "592998  [health, history, mathematics, nature, philoso... 2008-10-23 16:06:19  \n",
       "21708   [art, events, geography, history, nature, phil... 2010-03-18 14:53:37  \n",
       "392348  [art, games, geography, health, nature, politi... 2007-08-28 09:27:27  \n",
       "64320              [geography, history, nature, politics] 2008-01-12 10:34:13  \n",
       "33717   [art, events, geography, history, nature, phil... 2009-10-03 17:38:53  \n",
       "427409     [events, geography, history, nature, politics] 2007-09-06 10:34:21  \n",
       "711043  [events, geography, history, nature, politics,... 2010-03-07 09:54:33  \n",
       "83685   [geography, history, nature, philosophy, polit... 2005-09-04 06:41:34  \n",
       "609534             [health, nature, philosophy, politics] 2009-04-09 21:14:50  \n",
       "677134   [events, games, health, history, nature, sports] 2009-09-27 06:43:26  "
      ]
     },
     "execution_count": 65,
     "metadata": {},
     "output_type": "execute_result"
    }
   ],
   "source": [
    "data_vi.sample(10)"
   ]
  },
  {
   "cell_type": "code",
   "execution_count": 66,
   "id": "9a628e4a-5c11-4362-b938-e1b979085955",
   "metadata": {
    "tags": []
   },
   "outputs": [],
   "source": [
    "data_vi.to_pickle('converted/df_vi')"
   ]
  },
  {
   "cell_type": "code",
   "execution_count": 67,
   "id": "95ebe68d-a08a-463d-a0d7-c1d32d09ffa8",
   "metadata": {
    "tags": []
   },
   "outputs": [
    {
     "name": "stdout",
     "output_type": "stream",
     "text": [
      "VI unique users: 12262\n",
      "VI users by category:\n"
     ]
    },
    {
     "data": {
      "text/plain": [
       "categories\n",
       "art             6478\n",
       "events          6669\n",
       "foods            627\n",
       "games           3341\n",
       "geography       9759\n",
       "health          5722\n",
       "history         8670\n",
       "mathematics     3700\n",
       "nature         10107\n",
       "philosophy      8164\n",
       "politics       10385\n",
       "religion        2729\n",
       "rights          2082\n",
       "sports          1473\n",
       "Name: user, dtype: int64"
      ]
     },
     "execution_count": 67,
     "metadata": {},
     "output_type": "execute_result"
    }
   ],
   "source": [
    "unique_users_vi = data_vi['user'].nunique()\n",
    "print(\"VI unique users:\", unique_users_vi)\n",
    "dfvi_exploded = data_vi.explode('categories')\n",
    "users_per_category_vi = dfvi_exploded.groupby('categories')['user'].nunique()\n",
    "print(\"VI users by category:\")\n",
    "users_per_category_vi"
   ]
  },
  {
   "cell_type": "markdown",
   "id": "cb1f7cad-69e0-4ca9-919e-88b25c2b1e68",
   "metadata": {},
   "source": [
    "## Processing ZH Data"
   ]
  },
  {
   "cell_type": "code",
   "execution_count": 68,
   "id": "e570cff4-8fbd-4447-aa91-327b7f0c37c1",
   "metadata": {
    "tags": []
   },
   "outputs": [],
   "source": [
    "file_path = 'WPData/zh_wp.txt'\n",
    "replace_in_file_comma_spaces(file_path)"
   ]
  },
  {
   "cell_type": "code",
   "execution_count": 69,
   "id": "10a7cae4-2110-46d2-9805-3f2baab93c91",
   "metadata": {
    "tags": []
   },
   "outputs": [],
   "source": [
    "data_zh=load_and_prepare_data('WPData/zh_wp.txt')\n",
    "import json\n",
    "\n",
    "data_zh['categories'] = data_zh['categories'].apply(json.loads)"
   ]
  },
  {
   "cell_type": "code",
   "execution_count": 70,
   "id": "04b3571d-389c-438a-8b58-6a81b16a73ed",
   "metadata": {
    "tags": []
   },
   "outputs": [
    {
     "data": {
      "text/html": [
       "<div>\n",
       "<style scoped>\n",
       "    .dataframe tbody tr th:only-of-type {\n",
       "        vertical-align: middle;\n",
       "    }\n",
       "\n",
       "    .dataframe tbody tr th {\n",
       "        vertical-align: top;\n",
       "    }\n",
       "\n",
       "    .dataframe thead th {\n",
       "        text-align: right;\n",
       "    }\n",
       "</style>\n",
       "<table border=\"1\" class=\"dataframe\">\n",
       "  <thead>\n",
       "    <tr style=\"text-align: right;\">\n",
       "      <th></th>\n",
       "      <th>title</th>\n",
       "      <th>user</th>\n",
       "      <th>timestamp</th>\n",
       "      <th>categories</th>\n",
       "      <th>datetime</th>\n",
       "    </tr>\n",
       "  </thead>\n",
       "  <tbody>\n",
       "    <tr>\n",
       "      <th>2480348</th>\n",
       "      <td>sts-2</td>\n",
       "      <td>tianxiaozhang</td>\n",
       "      <td>1180930541</td>\n",
       "      <td>[geography]</td>\n",
       "      <td>2007-06-04 04:15:41</td>\n",
       "    </tr>\n",
       "    <tr>\n",
       "      <th>2716665</th>\n",
       "      <td>足球之夜</td>\n",
       "      <td>chowhotin</td>\n",
       "      <td>1191908718</td>\n",
       "      <td>[art]</td>\n",
       "      <td>2007-10-09 05:45:18</td>\n",
       "    </tr>\n",
       "    <tr>\n",
       "      <th>299429</th>\n",
       "      <td>惡搞文化</td>\n",
       "      <td>kw9329</td>\n",
       "      <td>1202969818</td>\n",
       "      <td>[art, nature]</td>\n",
       "      <td>2008-02-14 06:16:58</td>\n",
       "    </tr>\n",
       "    <tr>\n",
       "      <th>222930</th>\n",
       "      <td>胡適</td>\n",
       "      <td>tedytj</td>\n",
       "      <td>1267505024</td>\n",
       "      <td>[art, history, nature, philosophy, politics]</td>\n",
       "      <td>2010-03-02 04:43:44</td>\n",
       "    </tr>\n",
       "    <tr>\n",
       "      <th>2240906</th>\n",
       "      <td>莫斯科戰役</td>\n",
       "      <td>evers</td>\n",
       "      <td>1258277807</td>\n",
       "      <td>[history]</td>\n",
       "      <td>2009-11-15 09:36:47</td>\n",
       "    </tr>\n",
       "    <tr>\n",
       "      <th>1091773</th>\n",
       "      <td>氧化剂</td>\n",
       "      <td>cough</td>\n",
       "      <td>1113517975</td>\n",
       "      <td>[art]</td>\n",
       "      <td>2005-04-14 22:32:55</td>\n",
       "    </tr>\n",
       "    <tr>\n",
       "      <th>4282176</th>\n",
       "      <td>安提帕特</td>\n",
       "      <td>djhuty</td>\n",
       "      <td>1253561734</td>\n",
       "      <td>[art, politics]</td>\n",
       "      <td>2009-09-21 19:35:34</td>\n",
       "    </tr>\n",
       "    <tr>\n",
       "      <th>3027189</th>\n",
       "      <td>色格拉布魯日皇家體育會</td>\n",
       "      <td>msuker</td>\n",
       "      <td>1237713081</td>\n",
       "      <td>[sports]</td>\n",
       "      <td>2009-03-22 09:11:21</td>\n",
       "    </tr>\n",
       "    <tr>\n",
       "      <th>1967912</th>\n",
       "      <td>梁靜茹</td>\n",
       "      <td>happyrabbit</td>\n",
       "      <td>1230887661</td>\n",
       "      <td>[art, nature]</td>\n",
       "      <td>2009-01-02 09:14:21</td>\n",
       "    </tr>\n",
       "    <tr>\n",
       "      <th>2460226</th>\n",
       "      <td>唇顎裂</td>\n",
       "      <td>tonync</td>\n",
       "      <td>1155884739</td>\n",
       "      <td>[health, history, nature]</td>\n",
       "      <td>2006-08-18 07:05:39</td>\n",
       "    </tr>\n",
       "  </tbody>\n",
       "</table>\n",
       "</div>"
      ],
      "text/plain": [
       "               title           user   timestamp  \\\n",
       "2480348        sts-2  tianxiaozhang  1180930541   \n",
       "2716665         足球之夜      chowhotin  1191908718   \n",
       "299429          惡搞文化         kw9329  1202969818   \n",
       "222930            胡適         tedytj  1267505024   \n",
       "2240906        莫斯科戰役          evers  1258277807   \n",
       "1091773          氧化剂          cough  1113517975   \n",
       "4282176         安提帕特         djhuty  1253561734   \n",
       "3027189  色格拉布魯日皇家體育會         msuker  1237713081   \n",
       "1967912          梁靜茹    happyrabbit  1230887661   \n",
       "2460226          唇顎裂         tonync  1155884739   \n",
       "\n",
       "                                           categories            datetime  \n",
       "2480348                                   [geography] 2007-06-04 04:15:41  \n",
       "2716665                                         [art] 2007-10-09 05:45:18  \n",
       "299429                                  [art, nature] 2008-02-14 06:16:58  \n",
       "222930   [art, history, nature, philosophy, politics] 2010-03-02 04:43:44  \n",
       "2240906                                     [history] 2009-11-15 09:36:47  \n",
       "1091773                                         [art] 2005-04-14 22:32:55  \n",
       "4282176                               [art, politics] 2009-09-21 19:35:34  \n",
       "3027189                                      [sports] 2009-03-22 09:11:21  \n",
       "1967912                                 [art, nature] 2009-01-02 09:14:21  \n",
       "2460226                     [health, history, nature] 2006-08-18 07:05:39  "
      ]
     },
     "execution_count": 70,
     "metadata": {},
     "output_type": "execute_result"
    }
   ],
   "source": [
    "data_zh.sample(10)"
   ]
  },
  {
   "cell_type": "code",
   "execution_count": 71,
   "id": "8ffae1d7-36d7-4823-968b-28b5bdf49d3f",
   "metadata": {
    "tags": []
   },
   "outputs": [],
   "source": [
    "data_zh.to_pickle('converted/df_zh')"
   ]
  },
  {
   "cell_type": "code",
   "execution_count": 72,
   "id": "b2b6eb39-0f92-477d-9eb9-edcc066813cf",
   "metadata": {
    "tags": []
   },
   "outputs": [
    {
     "name": "stdout",
     "output_type": "stream",
     "text": [
      "ZH unique users: 76613\n",
      "ZH users by category:\n"
     ]
    },
    {
     "data": {
      "text/plain": [
       "categories\n",
       "art            54766\n",
       "events         19625\n",
       "foods           5436\n",
       "games           8721\n",
       "geography      35855\n",
       "health         18639\n",
       "history        36451\n",
       "mathematics    19234\n",
       "nature         53861\n",
       "philosophy     23834\n",
       "politics       40170\n",
       "religion       17003\n",
       "rights         17748\n",
       "sports         12030\n",
       "Name: user, dtype: int64"
      ]
     },
     "execution_count": 72,
     "metadata": {},
     "output_type": "execute_result"
    }
   ],
   "source": [
    "unique_users_zh = data_zh['user'].nunique()\n",
    "print(\"ZH unique users:\", unique_users_zh)\n",
    "dfzh_exploded = data_zh.explode('categories')\n",
    "users_per_category_zh = dfzh_exploded.groupby('categories')['user'].nunique()\n",
    "print(\"ZH users by category:\")\n",
    "users_per_category_zh"
   ]
  },
  {
   "cell_type": "markdown",
   "id": "1e197d73-97bd-4c6a-8c5c-f33d3db43513",
   "metadata": {},
   "source": [
    "## Get processed files stored locally "
   ]
  },
  {
   "cell_type": "code",
   "execution_count": 1,
   "id": "5fe07028-b6dc-44a0-be5f-80fd5203f7fd",
   "metadata": {
    "tags": []
   },
   "outputs": [
    {
     "ename": "KeyboardInterrupt",
     "evalue": "",
     "output_type": "error",
     "traceback": [
      "\u001b[0;31m---------------------------------------------------------------------------\u001b[0m",
      "\u001b[0;31mKeyboardInterrupt\u001b[0m                         Traceback (most recent call last)",
      "File \u001b[0;32m<timed exec>:6\u001b[0m\n",
      "File \u001b[0;32m~/anaconda3/lib/python3.11/site-packages/pandas/io/pickle.py:196\u001b[0m, in \u001b[0;36mread_pickle\u001b[0;34m(filepath_or_buffer, compression, storage_options)\u001b[0m\n\u001b[1;32m    193\u001b[0m     \u001b[38;5;28;01mwith\u001b[39;00m warnings\u001b[38;5;241m.\u001b[39mcatch_warnings(record\u001b[38;5;241m=\u001b[39m\u001b[38;5;28;01mTrue\u001b[39;00m):\n\u001b[1;32m    194\u001b[0m         \u001b[38;5;66;03m# We want to silence any warnings about, e.g. moved modules.\u001b[39;00m\n\u001b[1;32m    195\u001b[0m         warnings\u001b[38;5;241m.\u001b[39msimplefilter(\u001b[38;5;124m\"\u001b[39m\u001b[38;5;124mignore\u001b[39m\u001b[38;5;124m\"\u001b[39m, \u001b[38;5;167;01mWarning\u001b[39;00m)\n\u001b[0;32m--> 196\u001b[0m         \u001b[38;5;28;01mreturn\u001b[39;00m pickle\u001b[38;5;241m.\u001b[39mload(handles\u001b[38;5;241m.\u001b[39mhandle)\n\u001b[1;32m    197\u001b[0m \u001b[38;5;28;01mexcept\u001b[39;00m excs_to_catch:\n\u001b[1;32m    198\u001b[0m     \u001b[38;5;66;03m# e.g.\u001b[39;00m\n\u001b[1;32m    199\u001b[0m     \u001b[38;5;66;03m#  \"No module named 'pandas.core.sparse.series'\"\u001b[39;00m\n\u001b[1;32m    200\u001b[0m     \u001b[38;5;66;03m#  \"Can't get attribute '__nat_unpickle' on <module 'pandas._libs.tslib\"\u001b[39;00m\n\u001b[1;32m    201\u001b[0m     \u001b[38;5;28;01mreturn\u001b[39;00m pc\u001b[38;5;241m.\u001b[39mload(handles\u001b[38;5;241m.\u001b[39mhandle, encoding\u001b[38;5;241m=\u001b[39m\u001b[38;5;28;01mNone\u001b[39;00m)\n",
      "File \u001b[0;32m~/anaconda3/lib/python3.11/site-packages/pandas/_libs/internals.pyx:574\u001b[0m, in \u001b[0;36mpandas._libs.internals._unpickle_block\u001b[0;34m()\u001b[0m\n",
      "File \u001b[0;32m~/anaconda3/lib/python3.11/site-packages/pandas/core/internals/blocks.py:2385\u001b[0m, in \u001b[0;36mnew_block\u001b[0;34m(values, placement, ndim, refs)\u001b[0m\n\u001b[1;32m   2381\u001b[0m     values \u001b[38;5;241m=\u001b[39m maybe_coerce_values(values)\n\u001b[1;32m   2382\u001b[0m     \u001b[38;5;28;01mreturn\u001b[39;00m klass(values, ndim\u001b[38;5;241m=\u001b[39m\u001b[38;5;241m2\u001b[39m, placement\u001b[38;5;241m=\u001b[39mplacement, refs\u001b[38;5;241m=\u001b[39mrefs)\n\u001b[0;32m-> 2385\u001b[0m \u001b[38;5;28;01mdef\u001b[39;00m \u001b[38;5;21mnew_block\u001b[39m(\n\u001b[1;32m   2386\u001b[0m     values, placement, \u001b[38;5;241m*\u001b[39m, ndim: \u001b[38;5;28mint\u001b[39m, refs: BlockValuesRefs \u001b[38;5;241m|\u001b[39m \u001b[38;5;28;01mNone\u001b[39;00m \u001b[38;5;241m=\u001b[39m \u001b[38;5;28;01mNone\u001b[39;00m\n\u001b[1;32m   2387\u001b[0m ) \u001b[38;5;241m-\u001b[39m\u001b[38;5;241m>\u001b[39m Block:\n\u001b[1;32m   2388\u001b[0m     \u001b[38;5;66;03m# caller is responsible for ensuring values is NOT a PandasArray\u001b[39;00m\n\u001b[1;32m   2390\u001b[0m     \u001b[38;5;28;01mif\u001b[39;00m \u001b[38;5;129;01mnot\u001b[39;00m \u001b[38;5;28misinstance\u001b[39m(placement, BlockPlacement):\n\u001b[1;32m   2391\u001b[0m         placement \u001b[38;5;241m=\u001b[39m BlockPlacement(placement)\n",
      "\u001b[0;31mKeyboardInterrupt\u001b[0m: "
     ]
    }
   ],
   "source": [
    "%%time\n",
    "import pandas as pd\n",
    "df_ar = pd.read_pickle('converted/df_ar')\n",
    "df_de = pd.read_pickle('converted/df_de')\n",
    "df_es = pd.read_pickle('converted/df_es')\n",
    "df_fr = pd.read_pickle('converted/df_fr')\n",
    "df_hu = pd.read_pickle('converted/df_hu')\n",
    "df_it = pd.read_pickle('converted/df_it')"
   ]
  },
  {
   "cell_type": "code",
   "execution_count": 2,
   "id": "b5b4ec5e-1f0f-4a36-aa7f-3c87ac5c3e16",
   "metadata": {
    "tags": []
   },
   "outputs": [
    {
     "name": "stdout",
     "output_type": "stream",
     "text": [
      "CPU times: user 5.74 s, sys: 17.2 s, total: 23 s\n",
      "Wall time: 31.2 s\n"
     ]
    }
   ],
   "source": [
    "%%time\n",
    "import pandas as pd\n",
    "\n",
    "df_et = pd.read_pickle('converted/df_it')"
   ]
  },
  {
   "cell_type": "code",
   "execution_count": 14,
   "id": "d277ad67-14c6-4ed9-a252-bbc794cc6bf0",
   "metadata": {
    "tags": []
   },
   "outputs": [
    {
     "ename": "TypeError",
     "evalue": "file must have 'read' and 'readline' attributes",
     "output_type": "error",
     "traceback": [
      "\u001b[0;31m---------------------------------------------------------------------------\u001b[0m",
      "\u001b[0;31mTypeError\u001b[0m                                 Traceback (most recent call last)",
      "File \u001b[0;32m<timed exec>:3\u001b[0m\n",
      "\u001b[0;31mTypeError\u001b[0m: file must have 'read' and 'readline' attributes"
     ]
    }
   ],
   "source": [
    "%%time\n",
    "import pickle\n",
    "\n",
    "data = pickle.load('converted/df_es')"
   ]
  },
  {
   "cell_type": "code",
   "execution_count": 5,
   "id": "d4776fca-3585-4b17-b82b-7b67a3a08693",
   "metadata": {
    "tags": []
   },
   "outputs": [
    {
     "name": "stdout",
     "output_type": "stream",
     "text": [
      "Deutch unique users: 2682096\n"
     ]
    },
    {
     "data": {
      "text/plain": [
       "17064686"
      ]
     },
     "execution_count": 5,
     "metadata": {},
     "output_type": "execute_result"
    }
   ],
   "source": [
    "df_es.sample(20)"
   ]
  },
  {
   "cell_type": "code",
   "execution_count": null,
   "id": "73a12fd7-5ed2-490a-b20f-b9168ad921d7",
   "metadata": {
    "tags": []
   },
   "outputs": [
    {
     "name": "stdout",
     "output_type": "stream",
     "text": [
      "Reading file:  df_ar\n",
      "File read complete:  df_ar\n",
      "Reading file:  df_de\n",
      "File read complete:  df_de\n",
      "Reading file:  df_hu\n",
      "File read complete:  df_hu\n",
      "Reading file:  df_zh\n",
      "File read complete:  df_zh\n",
      "Reading file:  df_es\n",
      "File read complete:  df_es\n",
      "Reading file:  df_fr\n",
      "File read complete:  df_fr\n",
      "Reading file:  df_vi\n",
      "File read complete:  df_vi\n",
      "Reading file:  df_ru\n",
      "File read complete:  df_ru\n",
      "Reading file:  df_ja\n",
      "File read complete:  df_ja\n",
      "Reading file:  df_it\n"
     ]
    }
   ],
   "source": [
    "import pandas as pd\n",
    "import matplotlib.pyplot as plt\n",
    "import os\n",
    "import pickle\n",
    "\n",
    "# Define the directory where your pickle files are stored\n",
    "directory = 'converted/'\n",
    "\n",
    "# Initialize an empty DataFrame to hold all the data\n",
    "combined_df = pd.DataFrame()\n",
    "\n",
    "# Loop through all the pickle files in the directory\n",
    "for filename in os.listdir(directory):\n",
    "    if filename.startswith('df_'):\n",
    "        print('Reading file: ',filename)\n",
    "        # Determine the language from the filename, stripping the 'df_' prefix\n",
    "        language = filename.split('_')[1]\n",
    "        \n",
    "        # Load the pickle file\n",
    "        filepath = os.path.join(directory, filename)\n",
    "        with open(filepath, 'rb') as file:\n",
    "            data = pickle.load(file)\n",
    "        \n",
    "        # Create a DataFrame and add the language column\n",
    "        df = pd.DataFrame(data)\n",
    "        df['language'] = language\n",
    "        \n",
    "        # Append to the combined DataFrame\n",
    "        combined_df = pd.concat([combined_df, df], ignore_index=True)\n",
    "        print('File read complete: ',filename)\n",
    "\n",
    "# Explode the categories list into separate rows\n",
    "#combined_df = combined_df.explode('categories')\n",
    "\n",
    "# Group by language and category and count the number of unique users\n",
    "#category_counts = combined_df.groupby(['language', 'categories']).agg({'user': pd.Series.nunique}).reset_index()\n",
    "\n",
    "# Pivot the data for visualization\n",
    "#pivot_table = category_counts.pivot(index='categories', columns='language', values='user')\n",
    "\n",
    "# Plotting\n",
    "#pivot_table.plot(kind='bar', figsize=(14, 7))\n",
    "#plt.title('Number of Unique Users by Category for Each Language')\n",
    "#plt.xlabel('Category')\n",
    "#plt.ylabel('Number of Users')\n",
    "#plt.legend(title='Language')\n",
    "#plt.show()\n"
   ]
  },
  {
   "cell_type": "code",
   "execution_count": null,
   "id": "796faf36-c325-43f1-aa49-b3c87faff775",
   "metadata": {
    "tags": []
   },
   "outputs": [
    {
     "name": "stdout",
     "output_type": "stream",
     "text": [
      "Reading file:  df_ar\n",
      "File read complete:  df_ar\n",
      "Reading file:  df_de\n",
      "File read complete:  df_de\n",
      "Reading file:  df_hu\n",
      "File read complete:  df_hu\n",
      "Reading file:  df_zh\n",
      "File read complete:  df_zh\n",
      "Reading file:  df_es\n",
      "File read complete:  df_es\n",
      "Reading file:  df_fr\n",
      "File read complete:  df_fr\n",
      "Reading file:  df_vi\n",
      "File read complete:  df_vi\n",
      "Reading file:  df_ru\n",
      "File read complete:  df_ru\n",
      "Reading file:  df_ja\n"
     ]
    }
   ],
   "source": [
    "import pandas as pd\n",
    "import matplotlib.pyplot as plt\n",
    "import os\n",
    "import pickle\n",
    "\n",
    "# Define the directory where your pickle files are stored\n",
    "directory = 'converted/'\n",
    "\n",
    "# Initialize an empty DataFrame to hold all the data\n",
    "combined_df = pd.DataFrame()\n",
    "\n",
    "# Loop through all the pickle files in the directory\n",
    "for filename in os.listdir(directory):\n",
    "    if filename.startswith('df_'):\n",
    "        print('Reading file: ',filename)\n",
    "        # Determine the language from the filename, stripping the 'df_' prefix\n",
    "        language = filename.split('_')[1]\n",
    "        \n",
    "        # Load the pickle file\n",
    "        filepath = os.path.join(directory, filename)\n",
    "        with open(filepath, 'rb') as file:\n",
    "            data = pickle.load(file)\n",
    "        \n",
    "        # Create a DataFrame and add the language column\n",
    "        df = pd.DataFrame(data)\n",
    "        df['language'] = language\n",
    "        \n",
    "        # Append to the combined DataFrame\n",
    "        combined_df = pd.concat([combined_df, df], ignore_index=True)\n",
    "        print('File read complete: ',filename)\n",
    "\n",
    "# Explode the categories list into separate rows\n",
    "#combined_df = combined_df.explode('categories')\n",
    "\n",
    "# Group by language and category and count the number of unique users\n",
    "#category_counts = combined_df.groupby(['language', 'categories']).agg({'user': pd.Series.nunique}).reset_index()\n",
    "\n",
    "# Pivot the data for visualization\n",
    "#pivot_table = category_counts.pivot(index='categories', columns='language', values='user')\n",
    "\n",
    "# Plotting\n",
    "#pivot_table.plot(kind='bar', figsize=(14, 7))\n",
    "#plt.title('Number of Unique Users by Category for Each Language')\n",
    "#plt.xlabel('Category')\n",
    "#plt.ylabel('Number of Users')\n",
    "#plt.legend(title='Language')\n",
    "#plt.show()\n"
   ]
  },
  {
   "cell_type": "code",
   "execution_count": 17,
   "id": "75da99fd-3e31-4657-9530-3658c8141bdc",
   "metadata": {
    "tags": []
   },
   "outputs": [
    {
     "ename": "KeyboardInterrupt",
     "evalue": "",
     "output_type": "error",
     "traceback": [
      "\u001b[0;31m---------------------------------------------------------------------------\u001b[0m",
      "\u001b[0;31mKeyboardInterrupt\u001b[0m                         Traceback (most recent call last)",
      "Cell \u001b[0;32mIn[17], line 50\u001b[0m\n\u001b[1;32m     47\u001b[0m most_recent_edit_es \u001b[38;5;241m=\u001b[39m data_es[\u001b[38;5;124m'\u001b[39m\u001b[38;5;124mdatetime\u001b[39m\u001b[38;5;124m'\u001b[39m]\u001b[38;5;241m.\u001b[39mmax()\n\u001b[1;32m     49\u001b[0m \u001b[38;5;66;03m# Count users per category for both datasets\u001b[39;00m\n\u001b[0;32m---> 50\u001b[0m users_per_category_fr \u001b[38;5;241m=\u001b[39m count_users_per_category(data_fr)\n\u001b[1;32m     51\u001b[0m users_per_category_es \u001b[38;5;241m=\u001b[39m count_users_per_category(data_es)\n\u001b[1;32m     53\u001b[0m \u001b[38;5;66;03m# Output results\u001b[39;00m\n",
      "Cell \u001b[0;32mIn[17], line 24\u001b[0m, in \u001b[0;36mcount_users_per_category\u001b[0;34m(data)\u001b[0m\n\u001b[1;32m     22\u001b[0m \u001b[38;5;28;01mdef\u001b[39;00m \u001b[38;5;21mcount_users_per_category\u001b[39m(data):\n\u001b[1;32m     23\u001b[0m     \u001b[38;5;66;03m# Explode the categories list into separate rows\u001b[39;00m\n\u001b[0;32m---> 24\u001b[0m     categories_expanded \u001b[38;5;241m=\u001b[39m data\u001b[38;5;241m.\u001b[39mexplode(\u001b[38;5;124m'\u001b[39m\u001b[38;5;124mcategories\u001b[39m\u001b[38;5;124m'\u001b[39m)\n\u001b[1;32m     26\u001b[0m     \u001b[38;5;66;03m# Group by category and count unique users\u001b[39;00m\n\u001b[1;32m     27\u001b[0m     users_per_category \u001b[38;5;241m=\u001b[39m categories_expanded\u001b[38;5;241m.\u001b[39mgroupby(\u001b[38;5;124m'\u001b[39m\u001b[38;5;124mcategories\u001b[39m\u001b[38;5;124m'\u001b[39m)[\u001b[38;5;124m'\u001b[39m\u001b[38;5;124muser\u001b[39m\u001b[38;5;124m'\u001b[39m]\u001b[38;5;241m.\u001b[39mnunique()\n",
      "File \u001b[0;32m~/anaconda3/lib/python3.11/site-packages/pandas/core/frame.py:8879\u001b[0m, in \u001b[0;36mDataFrame.explode\u001b[0;34m(self, column, ignore_index)\u001b[0m\n\u001b[1;32m   8876\u001b[0m \u001b[38;5;28;01melse\u001b[39;00m:\n\u001b[1;32m   8877\u001b[0m     \u001b[38;5;28;01mraise\u001b[39;00m \u001b[38;5;167;01mValueError\u001b[39;00m(\u001b[38;5;124m\"\u001b[39m\u001b[38;5;124mcolumn must be a scalar, tuple, or list thereof\u001b[39m\u001b[38;5;124m\"\u001b[39m)\n\u001b[0;32m-> 8879\u001b[0m df \u001b[38;5;241m=\u001b[39m \u001b[38;5;28mself\u001b[39m\u001b[38;5;241m.\u001b[39mreset_index(drop\u001b[38;5;241m=\u001b[39m\u001b[38;5;28;01mTrue\u001b[39;00m)\n\u001b[1;32m   8880\u001b[0m \u001b[38;5;28;01mif\u001b[39;00m \u001b[38;5;28mlen\u001b[39m(columns) \u001b[38;5;241m==\u001b[39m \u001b[38;5;241m1\u001b[39m:\n\u001b[1;32m   8881\u001b[0m     result \u001b[38;5;241m=\u001b[39m df[columns[\u001b[38;5;241m0\u001b[39m]]\u001b[38;5;241m.\u001b[39mexplode()\n",
      "File \u001b[0;32m~/anaconda3/lib/python3.11/site-packages/pandas/core/frame.py:6154\u001b[0m, in \u001b[0;36mDataFrame.reset_index\u001b[0;34m(self, level, drop, inplace, col_level, col_fill, allow_duplicates, names)\u001b[0m\n\u001b[1;32m   6152\u001b[0m     new_obj \u001b[38;5;241m=\u001b[39m \u001b[38;5;28mself\u001b[39m\n\u001b[1;32m   6153\u001b[0m \u001b[38;5;28;01melse\u001b[39;00m:\n\u001b[0;32m-> 6154\u001b[0m     new_obj \u001b[38;5;241m=\u001b[39m \u001b[38;5;28mself\u001b[39m\u001b[38;5;241m.\u001b[39mcopy(deep\u001b[38;5;241m=\u001b[39m\u001b[38;5;28;01mNone\u001b[39;00m)\n\u001b[1;32m   6155\u001b[0m \u001b[38;5;28;01mif\u001b[39;00m allow_duplicates \u001b[38;5;129;01mis\u001b[39;00m \u001b[38;5;129;01mnot\u001b[39;00m lib\u001b[38;5;241m.\u001b[39mno_default:\n\u001b[1;32m   6156\u001b[0m     allow_duplicates \u001b[38;5;241m=\u001b[39m validate_bool_kwarg(allow_duplicates, \u001b[38;5;124m\"\u001b[39m\u001b[38;5;124mallow_duplicates\u001b[39m\u001b[38;5;124m\"\u001b[39m)\n",
      "File \u001b[0;32m~/anaconda3/lib/python3.11/site-packages/pandas/core/generic.py:6452\u001b[0m, in \u001b[0;36mNDFrame.copy\u001b[0;34m(self, deep)\u001b[0m\n\u001b[1;32m   6342\u001b[0m \u001b[38;5;129m@final\u001b[39m\n\u001b[1;32m   6343\u001b[0m \u001b[38;5;28;01mdef\u001b[39;00m \u001b[38;5;21mcopy\u001b[39m(\u001b[38;5;28mself\u001b[39m: NDFrameT, deep: bool_t \u001b[38;5;241m|\u001b[39m \u001b[38;5;28;01mNone\u001b[39;00m \u001b[38;5;241m=\u001b[39m \u001b[38;5;28;01mTrue\u001b[39;00m) \u001b[38;5;241m-\u001b[39m\u001b[38;5;241m>\u001b[39m NDFrameT:\n\u001b[1;32m   6344\u001b[0m \u001b[38;5;250m    \u001b[39m\u001b[38;5;124;03m\"\"\"\u001b[39;00m\n\u001b[1;32m   6345\u001b[0m \u001b[38;5;124;03m    Make a copy of this object's indices and data.\u001b[39;00m\n\u001b[1;32m   6346\u001b[0m \n\u001b[0;32m   (...)\u001b[0m\n\u001b[1;32m   6450\u001b[0m \u001b[38;5;124;03m    dtype: object\u001b[39;00m\n\u001b[1;32m   6451\u001b[0m \u001b[38;5;124;03m    \"\"\"\u001b[39;00m\n\u001b[0;32m-> 6452\u001b[0m     data \u001b[38;5;241m=\u001b[39m \u001b[38;5;28mself\u001b[39m\u001b[38;5;241m.\u001b[39m_mgr\u001b[38;5;241m.\u001b[39mcopy(deep\u001b[38;5;241m=\u001b[39mdeep)\n\u001b[1;32m   6453\u001b[0m     \u001b[38;5;28mself\u001b[39m\u001b[38;5;241m.\u001b[39m_clear_item_cache()\n\u001b[1;32m   6454\u001b[0m     \u001b[38;5;28;01mreturn\u001b[39;00m \u001b[38;5;28mself\u001b[39m\u001b[38;5;241m.\u001b[39m_constructor(data)\u001b[38;5;241m.\u001b[39m__finalize__(\u001b[38;5;28mself\u001b[39m, method\u001b[38;5;241m=\u001b[39m\u001b[38;5;124m\"\u001b[39m\u001b[38;5;124mcopy\u001b[39m\u001b[38;5;124m\"\u001b[39m)\n",
      "File \u001b[0;32m~/anaconda3/lib/python3.11/site-packages/pandas/core/internals/managers.py:664\u001b[0m, in \u001b[0;36mBaseBlockManager.copy\u001b[0;34m(self, deep)\u001b[0m\n\u001b[1;32m    661\u001b[0m         res\u001b[38;5;241m.\u001b[39m_blklocs \u001b[38;5;241m=\u001b[39m \u001b[38;5;28mself\u001b[39m\u001b[38;5;241m.\u001b[39m_blklocs\u001b[38;5;241m.\u001b[39mcopy()\n\u001b[1;32m    663\u001b[0m \u001b[38;5;28;01mif\u001b[39;00m deep:\n\u001b[0;32m--> 664\u001b[0m     res\u001b[38;5;241m.\u001b[39m_consolidate_inplace()\n\u001b[1;32m    665\u001b[0m \u001b[38;5;28;01mreturn\u001b[39;00m res\n",
      "File \u001b[0;32m~/anaconda3/lib/python3.11/site-packages/pandas/core/internals/managers.py:1832\u001b[0m, in \u001b[0;36mBlockManager._consolidate_inplace\u001b[0;34m(self)\u001b[0m\n\u001b[1;32m   1830\u001b[0m \u001b[38;5;28mself\u001b[39m\u001b[38;5;241m.\u001b[39m_is_consolidated \u001b[38;5;241m=\u001b[39m \u001b[38;5;28;01mTrue\u001b[39;00m\n\u001b[1;32m   1831\u001b[0m \u001b[38;5;28mself\u001b[39m\u001b[38;5;241m.\u001b[39m_known_consolidated \u001b[38;5;241m=\u001b[39m \u001b[38;5;28;01mTrue\u001b[39;00m\n\u001b[0;32m-> 1832\u001b[0m \u001b[38;5;28mself\u001b[39m\u001b[38;5;241m.\u001b[39m_rebuild_blknos_and_blklocs()\n",
      "File \u001b[0;32m~/anaconda3/lib/python3.11/site-packages/pandas/_libs/internals.pyx:749\u001b[0m, in \u001b[0;36mpandas._libs.internals.BlockManager._rebuild_blknos_and_blklocs\u001b[0;34m()\u001b[0m\n",
      "File \u001b[0;32m~/anaconda3/lib/python3.11/site-packages/pandas/core/internals/base.py:54\u001b[0m, in \u001b[0;36mDataManager.shape\u001b[0;34m(self)\u001b[0m\n\u001b[1;32m     50\u001b[0m \u001b[38;5;129m@property\u001b[39m\n\u001b[1;32m     51\u001b[0m \u001b[38;5;28;01mdef\u001b[39;00m \u001b[38;5;21mndim\u001b[39m(\u001b[38;5;28mself\u001b[39m) \u001b[38;5;241m-\u001b[39m\u001b[38;5;241m>\u001b[39m \u001b[38;5;28mint\u001b[39m:\n\u001b[1;32m     52\u001b[0m     \u001b[38;5;28;01mreturn\u001b[39;00m \u001b[38;5;28mlen\u001b[39m(\u001b[38;5;28mself\u001b[39m\u001b[38;5;241m.\u001b[39maxes)\n\u001b[0;32m---> 54\u001b[0m \u001b[38;5;129m@property\u001b[39m\n\u001b[1;32m     55\u001b[0m \u001b[38;5;28;01mdef\u001b[39;00m \u001b[38;5;21mshape\u001b[39m(\u001b[38;5;28mself\u001b[39m) \u001b[38;5;241m-\u001b[39m\u001b[38;5;241m>\u001b[39m Shape:\n\u001b[1;32m     56\u001b[0m     \u001b[38;5;28;01mreturn\u001b[39;00m \u001b[38;5;28mtuple\u001b[39m(\u001b[38;5;28mlen\u001b[39m(ax) \u001b[38;5;28;01mfor\u001b[39;00m ax \u001b[38;5;129;01min\u001b[39;00m \u001b[38;5;28mself\u001b[39m\u001b[38;5;241m.\u001b[39maxes)\n\u001b[1;32m     58\u001b[0m \u001b[38;5;129m@final\u001b[39m\n\u001b[1;32m     59\u001b[0m \u001b[38;5;28;01mdef\u001b[39;00m \u001b[38;5;21m_validate_set_axis\u001b[39m(\u001b[38;5;28mself\u001b[39m, axis: AxisInt, new_labels: Index) \u001b[38;5;241m-\u001b[39m\u001b[38;5;241m>\u001b[39m \u001b[38;5;28;01mNone\u001b[39;00m:\n\u001b[1;32m     60\u001b[0m     \u001b[38;5;66;03m# Caller is responsible for ensuring we have an Index object.\u001b[39;00m\n",
      "\u001b[0;31mKeyboardInterrupt\u001b[0m: "
     ]
    }
   ],
   "source": [
    "import pandas as pd\n",
    "from datetime import datetime\n",
    "import json\n",
    "\n",
    "\n",
    "\n",
    "# Function to count unique users per category\n",
    "def count_users_per_category(data):\n",
    "    # Explode the categories list into separate rows\n",
    "    categories_expanded = data.explode('categories')\n",
    "    \n",
    "    # Group by category and count unique users\n",
    "    users_per_category = categories_expanded.groupby('categories')['user'].nunique()\n",
    "    \n",
    "    return users_per_category\n",
    "\n",
    "# Load French and Spanish data\n",
    "file_path_fr = 'WPData/fr_wiki.txt'\n",
    "file_path_es = 'WPData/es_wiki.txt'\n",
    "data_fr = load_and_prepare_data(file_path_fr)\n",
    "data_es = load_and_prepare_data(file_path_es)\n",
    "\n",
    "# Count unique articles in each dataset\n",
    "unique_articles_fr = data_fr['title'].nunique()\n",
    "unique_articles_es = data_es['title'].nunique()\n",
    "\n",
    "# Count unique users in each dataset\n",
    "unique_users_fr = data_fr['user'].nunique()\n",
    "unique_users_es = data_es['user'].nunique()\n",
    "\n",
    "# Find the most recent edit date in each dataset\n",
    "most_recent_edit_fr = data_fr['datetime'].max()\n",
    "most_recent_edit_es = data_es['datetime'].max()\n",
    "\n",
    "# Count users per category for both datasets\n",
    "users_per_category_fr = count_users_per_category(data_fr)\n",
    "users_per_category_es = count_users_per_category(data_es)\n",
    "\n",
    "# Output results\n",
    "print(f\"French data - Unique articles: {unique_articles_fr}, Unique users: {unique_users_fr}, Most recent edit: {most_recent_edit_fr}\")\n",
    "print(f\"Spanish data - Unique articles: {unique_articles_es}, Unique users: {unique_users_es}, Most recent edit: {most_recent_edit_es}\")\n",
    "print(\"French Users per Category:\")\n",
    "print(users_per_category_fr)\n",
    "print(\"Spanish Users per Category:\")\n",
    "print(users_per_category_es)\n"
   ]
  }
 ],
 "metadata": {
  "kernelspec": {
   "display_name": "Python 3 (ipykernel)",
   "language": "python",
   "name": "python3"
  },
  "language_info": {
   "codemirror_mode": {
    "name": "ipython",
    "version": 3
   },
   "file_extension": ".py",
   "mimetype": "text/x-python",
   "name": "python",
   "nbconvert_exporter": "python",
   "pygments_lexer": "ipython3",
   "version": "3.11.5"
  }
 },
 "nbformat": 4,
 "nbformat_minor": 5
}
